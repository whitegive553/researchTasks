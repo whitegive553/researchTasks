{
  "nbformat": 4,
  "nbformat_minor": 0,
  "metadata": {
    "colab": {
      "provenance": []
    },
    "kernelspec": {
      "name": "python3",
      "display_name": "Python 3"
    },
    "language_info": {
      "name": "python"
    }
  },
  "cells": [
    {
      "cell_type": "markdown",
      "source": [
        "# reproduce GCN"
      ],
      "metadata": {
        "id": "ks-DJeLHAABK"
      }
    },
    {
      "cell_type": "code",
      "execution_count": 2,
      "metadata": {
        "colab": {
          "base_uri": "https://localhost:8080/"
        },
        "id": "TbQi3PQJ-N4O",
        "outputId": "6a19a192-1c40-4618-f8bb-00f19bc4f343"
      },
      "outputs": [
        {
          "output_type": "stream",
          "name": "stdout",
          "text": [
            "Requirement already satisfied: torch in /usr/local/lib/python3.11/dist-packages (2.5.1+cu124)\n",
            "Requirement already satisfied: torchvision in /usr/local/lib/python3.11/dist-packages (0.20.1+cu124)\n",
            "Requirement already satisfied: torchaudio in /usr/local/lib/python3.11/dist-packages (2.5.1+cu124)\n",
            "Requirement already satisfied: filelock in /usr/local/lib/python3.11/dist-packages (from torch) (3.17.0)\n",
            "Requirement already satisfied: typing-extensions>=4.8.0 in /usr/local/lib/python3.11/dist-packages (from torch) (4.12.2)\n",
            "Requirement already satisfied: networkx in /usr/local/lib/python3.11/dist-packages (from torch) (3.4.2)\n",
            "Requirement already satisfied: jinja2 in /usr/local/lib/python3.11/dist-packages (from torch) (3.1.5)\n",
            "Requirement already satisfied: fsspec in /usr/local/lib/python3.11/dist-packages (from torch) (2024.10.0)\n",
            "Collecting nvidia-cuda-nvrtc-cu12==12.4.127 (from torch)\n",
            "  Downloading nvidia_cuda_nvrtc_cu12-12.4.127-py3-none-manylinux2014_x86_64.whl.metadata (1.5 kB)\n",
            "Collecting nvidia-cuda-runtime-cu12==12.4.127 (from torch)\n",
            "  Downloading nvidia_cuda_runtime_cu12-12.4.127-py3-none-manylinux2014_x86_64.whl.metadata (1.5 kB)\n",
            "Collecting nvidia-cuda-cupti-cu12==12.4.127 (from torch)\n",
            "  Downloading nvidia_cuda_cupti_cu12-12.4.127-py3-none-manylinux2014_x86_64.whl.metadata (1.6 kB)\n",
            "Collecting nvidia-cudnn-cu12==9.1.0.70 (from torch)\n",
            "  Downloading nvidia_cudnn_cu12-9.1.0.70-py3-none-manylinux2014_x86_64.whl.metadata (1.6 kB)\n",
            "Collecting nvidia-cublas-cu12==12.4.5.8 (from torch)\n",
            "  Downloading nvidia_cublas_cu12-12.4.5.8-py3-none-manylinux2014_x86_64.whl.metadata (1.5 kB)\n",
            "Collecting nvidia-cufft-cu12==11.2.1.3 (from torch)\n",
            "  Downloading nvidia_cufft_cu12-11.2.1.3-py3-none-manylinux2014_x86_64.whl.metadata (1.5 kB)\n",
            "Collecting nvidia-curand-cu12==10.3.5.147 (from torch)\n",
            "  Downloading nvidia_curand_cu12-10.3.5.147-py3-none-manylinux2014_x86_64.whl.metadata (1.5 kB)\n",
            "Collecting nvidia-cusolver-cu12==11.6.1.9 (from torch)\n",
            "  Downloading nvidia_cusolver_cu12-11.6.1.9-py3-none-manylinux2014_x86_64.whl.metadata (1.6 kB)\n",
            "Collecting nvidia-cusparse-cu12==12.3.1.170 (from torch)\n",
            "  Downloading nvidia_cusparse_cu12-12.3.1.170-py3-none-manylinux2014_x86_64.whl.metadata (1.6 kB)\n",
            "Requirement already satisfied: nvidia-nccl-cu12==2.21.5 in /usr/local/lib/python3.11/dist-packages (from torch) (2.21.5)\n",
            "Requirement already satisfied: nvidia-nvtx-cu12==12.4.127 in /usr/local/lib/python3.11/dist-packages (from torch) (12.4.127)\n",
            "Collecting nvidia-nvjitlink-cu12==12.4.127 (from torch)\n",
            "  Downloading nvidia_nvjitlink_cu12-12.4.127-py3-none-manylinux2014_x86_64.whl.metadata (1.5 kB)\n",
            "Requirement already satisfied: triton==3.1.0 in /usr/local/lib/python3.11/dist-packages (from torch) (3.1.0)\n",
            "Requirement already satisfied: sympy==1.13.1 in /usr/local/lib/python3.11/dist-packages (from torch) (1.13.1)\n",
            "Requirement already satisfied: mpmath<1.4,>=1.1.0 in /usr/local/lib/python3.11/dist-packages (from sympy==1.13.1->torch) (1.3.0)\n",
            "Requirement already satisfied: numpy in /usr/local/lib/python3.11/dist-packages (from torchvision) (1.26.4)\n",
            "Requirement already satisfied: pillow!=8.3.*,>=5.3.0 in /usr/local/lib/python3.11/dist-packages (from torchvision) (11.1.0)\n",
            "Requirement already satisfied: MarkupSafe>=2.0 in /usr/local/lib/python3.11/dist-packages (from jinja2->torch) (3.0.2)\n",
            "Downloading nvidia_cublas_cu12-12.4.5.8-py3-none-manylinux2014_x86_64.whl (363.4 MB)\n",
            "\u001b[2K   \u001b[90m━━━━━━━━━━━━━━━━━━━━━━━━━━━━━━━━━━━━━━━━\u001b[0m \u001b[32m363.4/363.4 MB\u001b[0m \u001b[31m1.6 MB/s\u001b[0m eta \u001b[36m0:00:00\u001b[0m\n",
            "\u001b[?25hDownloading nvidia_cuda_cupti_cu12-12.4.127-py3-none-manylinux2014_x86_64.whl (13.8 MB)\n",
            "\u001b[2K   \u001b[90m━━━━━━━━━━━━━━━━━━━━━━━━━━━━━━━━━━━━━━━━\u001b[0m \u001b[32m13.8/13.8 MB\u001b[0m \u001b[31m92.2 MB/s\u001b[0m eta \u001b[36m0:00:00\u001b[0m\n",
            "\u001b[?25hDownloading nvidia_cuda_nvrtc_cu12-12.4.127-py3-none-manylinux2014_x86_64.whl (24.6 MB)\n",
            "\u001b[2K   \u001b[90m━━━━━━━━━━━━━━━━━━━━━━━━━━━━━━━━━━━━━━━━\u001b[0m \u001b[32m24.6/24.6 MB\u001b[0m \u001b[31m74.3 MB/s\u001b[0m eta \u001b[36m0:00:00\u001b[0m\n",
            "\u001b[?25hDownloading nvidia_cuda_runtime_cu12-12.4.127-py3-none-manylinux2014_x86_64.whl (883 kB)\n",
            "\u001b[2K   \u001b[90m━━━━━━━━━━━━━━━━━━━━━━━━━━━━━━━━━━━━━━━━\u001b[0m \u001b[32m883.7/883.7 kB\u001b[0m \u001b[31m37.5 MB/s\u001b[0m eta \u001b[36m0:00:00\u001b[0m\n",
            "\u001b[?25hDownloading nvidia_cudnn_cu12-9.1.0.70-py3-none-manylinux2014_x86_64.whl (664.8 MB)\n",
            "\u001b[2K   \u001b[90m━━━━━━━━━━━━━━━━━━━━━━━━━━━━━━━━━━━━━━━━\u001b[0m \u001b[32m664.8/664.8 MB\u001b[0m \u001b[31m2.0 MB/s\u001b[0m eta \u001b[36m0:00:00\u001b[0m\n",
            "\u001b[?25hDownloading nvidia_cufft_cu12-11.2.1.3-py3-none-manylinux2014_x86_64.whl (211.5 MB)\n",
            "\u001b[2K   \u001b[90m━━━━━━━━━━━━━━━━━━━━━━━━━━━━━━━━━━━━━━━━\u001b[0m \u001b[32m211.5/211.5 MB\u001b[0m \u001b[31m6.2 MB/s\u001b[0m eta \u001b[36m0:00:00\u001b[0m\n",
            "\u001b[?25hDownloading nvidia_curand_cu12-10.3.5.147-py3-none-manylinux2014_x86_64.whl (56.3 MB)\n",
            "\u001b[2K   \u001b[90m━━━━━━━━━━━━━━━━━━━━━━━━━━━━━━━━━━━━━━━━\u001b[0m \u001b[32m56.3/56.3 MB\u001b[0m \u001b[31m11.7 MB/s\u001b[0m eta \u001b[36m0:00:00\u001b[0m\n",
            "\u001b[?25hDownloading nvidia_cusolver_cu12-11.6.1.9-py3-none-manylinux2014_x86_64.whl (127.9 MB)\n",
            "\u001b[2K   \u001b[90m━━━━━━━━━━━━━━━━━━━━━━━━━━━━━━━━━━━━━━━━\u001b[0m \u001b[32m127.9/127.9 MB\u001b[0m \u001b[31m6.8 MB/s\u001b[0m eta \u001b[36m0:00:00\u001b[0m\n",
            "\u001b[?25hDownloading nvidia_cusparse_cu12-12.3.1.170-py3-none-manylinux2014_x86_64.whl (207.5 MB)\n",
            "\u001b[2K   \u001b[90m━━━━━━━━━━━━━━━━━━━━━━━━━━━━━━━━━━━━━━━━\u001b[0m \u001b[32m207.5/207.5 MB\u001b[0m \u001b[31m5.6 MB/s\u001b[0m eta \u001b[36m0:00:00\u001b[0m\n",
            "\u001b[?25hDownloading nvidia_nvjitlink_cu12-12.4.127-py3-none-manylinux2014_x86_64.whl (21.1 MB)\n",
            "\u001b[2K   \u001b[90m━━━━━━━━━━━━━━━━━━━━━━━━━━━━━━━━━━━━━━━━\u001b[0m \u001b[32m21.1/21.1 MB\u001b[0m \u001b[31m68.8 MB/s\u001b[0m eta \u001b[36m0:00:00\u001b[0m\n",
            "\u001b[?25hInstalling collected packages: nvidia-nvjitlink-cu12, nvidia-curand-cu12, nvidia-cufft-cu12, nvidia-cuda-runtime-cu12, nvidia-cuda-nvrtc-cu12, nvidia-cuda-cupti-cu12, nvidia-cublas-cu12, nvidia-cusparse-cu12, nvidia-cudnn-cu12, nvidia-cusolver-cu12\n",
            "  Attempting uninstall: nvidia-nvjitlink-cu12\n",
            "    Found existing installation: nvidia-nvjitlink-cu12 12.5.82\n",
            "    Uninstalling nvidia-nvjitlink-cu12-12.5.82:\n",
            "      Successfully uninstalled nvidia-nvjitlink-cu12-12.5.82\n",
            "  Attempting uninstall: nvidia-curand-cu12\n",
            "    Found existing installation: nvidia-curand-cu12 10.3.6.82\n",
            "    Uninstalling nvidia-curand-cu12-10.3.6.82:\n",
            "      Successfully uninstalled nvidia-curand-cu12-10.3.6.82\n",
            "  Attempting uninstall: nvidia-cufft-cu12\n",
            "    Found existing installation: nvidia-cufft-cu12 11.2.3.61\n",
            "    Uninstalling nvidia-cufft-cu12-11.2.3.61:\n",
            "      Successfully uninstalled nvidia-cufft-cu12-11.2.3.61\n",
            "  Attempting uninstall: nvidia-cuda-runtime-cu12\n",
            "    Found existing installation: nvidia-cuda-runtime-cu12 12.5.82\n",
            "    Uninstalling nvidia-cuda-runtime-cu12-12.5.82:\n",
            "      Successfully uninstalled nvidia-cuda-runtime-cu12-12.5.82\n",
            "  Attempting uninstall: nvidia-cuda-nvrtc-cu12\n",
            "    Found existing installation: nvidia-cuda-nvrtc-cu12 12.5.82\n",
            "    Uninstalling nvidia-cuda-nvrtc-cu12-12.5.82:\n",
            "      Successfully uninstalled nvidia-cuda-nvrtc-cu12-12.5.82\n",
            "  Attempting uninstall: nvidia-cuda-cupti-cu12\n",
            "    Found existing installation: nvidia-cuda-cupti-cu12 12.5.82\n",
            "    Uninstalling nvidia-cuda-cupti-cu12-12.5.82:\n",
            "      Successfully uninstalled nvidia-cuda-cupti-cu12-12.5.82\n",
            "  Attempting uninstall: nvidia-cublas-cu12\n",
            "    Found existing installation: nvidia-cublas-cu12 12.5.3.2\n",
            "    Uninstalling nvidia-cublas-cu12-12.5.3.2:\n",
            "      Successfully uninstalled nvidia-cublas-cu12-12.5.3.2\n",
            "  Attempting uninstall: nvidia-cusparse-cu12\n",
            "    Found existing installation: nvidia-cusparse-cu12 12.5.1.3\n",
            "    Uninstalling nvidia-cusparse-cu12-12.5.1.3:\n",
            "      Successfully uninstalled nvidia-cusparse-cu12-12.5.1.3\n",
            "  Attempting uninstall: nvidia-cudnn-cu12\n",
            "    Found existing installation: nvidia-cudnn-cu12 9.3.0.75\n",
            "    Uninstalling nvidia-cudnn-cu12-9.3.0.75:\n",
            "      Successfully uninstalled nvidia-cudnn-cu12-9.3.0.75\n",
            "  Attempting uninstall: nvidia-cusolver-cu12\n",
            "    Found existing installation: nvidia-cusolver-cu12 11.6.3.83\n",
            "    Uninstalling nvidia-cusolver-cu12-11.6.3.83:\n",
            "      Successfully uninstalled nvidia-cusolver-cu12-11.6.3.83\n",
            "Successfully installed nvidia-cublas-cu12-12.4.5.8 nvidia-cuda-cupti-cu12-12.4.127 nvidia-cuda-nvrtc-cu12-12.4.127 nvidia-cuda-runtime-cu12-12.4.127 nvidia-cudnn-cu12-9.1.0.70 nvidia-cufft-cu12-11.2.1.3 nvidia-curand-cu12-10.3.5.147 nvidia-cusolver-cu12-11.6.1.9 nvidia-cusparse-cu12-12.3.1.170 nvidia-nvjitlink-cu12-12.4.127\n"
          ]
        }
      ],
      "source": [
        "!pip install torch torchvision torchaudio"
      ]
    },
    {
      "cell_type": "code",
      "source": [
        "!pip install torch_geometric"
      ],
      "metadata": {
        "colab": {
          "base_uri": "https://localhost:8080/"
        },
        "id": "SUS6g8jCnc0T",
        "outputId": "6df69398-a969-4578-f49d-383e7539afab"
      },
      "execution_count": 4,
      "outputs": [
        {
          "output_type": "stream",
          "name": "stdout",
          "text": [
            "Requirement already satisfied: torch_geometric in /usr/local/lib/python3.11/dist-packages (2.6.1)\n",
            "Requirement already satisfied: aiohttp in /usr/local/lib/python3.11/dist-packages (from torch_geometric) (3.11.11)\n",
            "Requirement already satisfied: fsspec in /usr/local/lib/python3.11/dist-packages (from torch_geometric) (2024.10.0)\n",
            "Requirement already satisfied: jinja2 in /usr/local/lib/python3.11/dist-packages (from torch_geometric) (3.1.5)\n",
            "Requirement already satisfied: numpy in /usr/local/lib/python3.11/dist-packages (from torch_geometric) (1.26.4)\n",
            "Requirement already satisfied: psutil>=5.8.0 in /usr/local/lib/python3.11/dist-packages (from torch_geometric) (5.9.5)\n",
            "Requirement already satisfied: pyparsing in /usr/local/lib/python3.11/dist-packages (from torch_geometric) (3.2.1)\n",
            "Requirement already satisfied: requests in /usr/local/lib/python3.11/dist-packages (from torch_geometric) (2.32.3)\n",
            "Requirement already satisfied: tqdm in /usr/local/lib/python3.11/dist-packages (from torch_geometric) (4.67.1)\n",
            "Requirement already satisfied: aiohappyeyeballs>=2.3.0 in /usr/local/lib/python3.11/dist-packages (from aiohttp->torch_geometric) (2.4.4)\n",
            "Requirement already satisfied: aiosignal>=1.1.2 in /usr/local/lib/python3.11/dist-packages (from aiohttp->torch_geometric) (1.3.2)\n",
            "Requirement already satisfied: attrs>=17.3.0 in /usr/local/lib/python3.11/dist-packages (from aiohttp->torch_geometric) (25.1.0)\n",
            "Requirement already satisfied: frozenlist>=1.1.1 in /usr/local/lib/python3.11/dist-packages (from aiohttp->torch_geometric) (1.5.0)\n",
            "Requirement already satisfied: multidict<7.0,>=4.5 in /usr/local/lib/python3.11/dist-packages (from aiohttp->torch_geometric) (6.1.0)\n",
            "Requirement already satisfied: propcache>=0.2.0 in /usr/local/lib/python3.11/dist-packages (from aiohttp->torch_geometric) (0.2.1)\n",
            "Requirement already satisfied: yarl<2.0,>=1.17.0 in /usr/local/lib/python3.11/dist-packages (from aiohttp->torch_geometric) (1.18.3)\n",
            "Requirement already satisfied: MarkupSafe>=2.0 in /usr/local/lib/python3.11/dist-packages (from jinja2->torch_geometric) (3.0.2)\n",
            "Requirement already satisfied: charset-normalizer<4,>=2 in /usr/local/lib/python3.11/dist-packages (from requests->torch_geometric) (3.4.1)\n",
            "Requirement already satisfied: idna<4,>=2.5 in /usr/local/lib/python3.11/dist-packages (from requests->torch_geometric) (3.10)\n",
            "Requirement already satisfied: urllib3<3,>=1.21.1 in /usr/local/lib/python3.11/dist-packages (from requests->torch_geometric) (2.3.0)\n",
            "Requirement already satisfied: certifi>=2017.4.17 in /usr/local/lib/python3.11/dist-packages (from requests->torch_geometric) (2024.12.14)\n"
          ]
        }
      ]
    },
    {
      "cell_type": "code",
      "source": [
        "import torch\n",
        "import numpy as np\n",
        "import scipy.sparse as sp\n",
        "from torch_geometric.datasets import Planetoid"
      ],
      "metadata": {
        "id": "7ZPQ5ke2AJQQ"
      },
      "execution_count": 5,
      "outputs": []
    },
    {
      "cell_type": "code",
      "source": [
        "dataset_name = \"CiteSeer\"\n",
        "dataset = Planetoid(root='/tmp/dataset', name=dataset_name)\n",
        "data = dataset[0]"
      ],
      "metadata": {
        "colab": {
          "base_uri": "https://localhost:8080/"
        },
        "id": "Jl0vplKBFOAf",
        "outputId": "7b296d95-0daa-4c89-adf2-655366e32f83"
      },
      "execution_count": 34,
      "outputs": [
        {
          "output_type": "stream",
          "name": "stderr",
          "text": [
            "Downloading https://github.com/kimiyoung/planetoid/raw/master/data/ind.citeseer.x\n",
            "Downloading https://github.com/kimiyoung/planetoid/raw/master/data/ind.citeseer.tx\n",
            "Downloading https://github.com/kimiyoung/planetoid/raw/master/data/ind.citeseer.allx\n",
            "Downloading https://github.com/kimiyoung/planetoid/raw/master/data/ind.citeseer.y\n",
            "Downloading https://github.com/kimiyoung/planetoid/raw/master/data/ind.citeseer.ty\n",
            "Downloading https://github.com/kimiyoung/planetoid/raw/master/data/ind.citeseer.ally\n",
            "Downloading https://github.com/kimiyoung/planetoid/raw/master/data/ind.citeseer.graph\n",
            "Downloading https://github.com/kimiyoung/planetoid/raw/master/data/ind.citeseer.test.index\n",
            "Processing...\n",
            "Done!\n"
          ]
        }
      ]
    },
    {
      "cell_type": "code",
      "source": [
        "print(data)\n",
        "edge_index = data.edge_index.numpy()\n",
        "features = data.x.numpy()\n",
        "labels = data.y.numpy()\n",
        "train_mask = data.train_mask.numpy()\n",
        "val_mask = data.val_mask.numpy()\n",
        "test_mask = data.test_mask.numpy()\n"
      ],
      "metadata": {
        "id": "N9f9fjhlFXES",
        "colab": {
          "base_uri": "https://localhost:8080/"
        },
        "outputId": "50b78a4f-36ee-4c72-9fc3-c1eb5367838d"
      },
      "execution_count": 35,
      "outputs": [
        {
          "output_type": "stream",
          "name": "stdout",
          "text": [
            "Data(x=[3327, 3703], edge_index=[2, 9104], y=[3327], train_mask=[3327], val_mask=[3327], test_mask=[3327])\n"
          ]
        }
      ]
    },
    {
      "cell_type": "code",
      "source": [
        "print(edge_index.shape)\n",
        "print(features.shape)\n",
        "print(labels.shape)\n",
        "print(train_mask.shape)\n",
        "print(val_mask.shape)\n",
        "print(test_mask.shape)\n",
        "print(edge_index)"
      ],
      "metadata": {
        "colab": {
          "base_uri": "https://localhost:8080/"
        },
        "id": "iz7YbgjMhqQM",
        "outputId": "c83e0070-a5d7-4921-8a90-b32488b5977f"
      },
      "execution_count": 46,
      "outputs": [
        {
          "output_type": "stream",
          "name": "stdout",
          "text": [
            "(2, 9104)\n",
            "(3327, 3703)\n",
            "(3327,)\n",
            "(3327,)\n",
            "(3327,)\n",
            "(3327,)\n",
            "[[ 628  158  486 ... 2820 1643   33]\n",
            " [   0    1    1 ... 3324 3325 3326]]\n"
          ]
        }
      ]
    },
    {
      "cell_type": "code",
      "source": [
        "class GraphData:\n",
        "    def __init__(self, edge_index, num_nodes, features, labels, train_mask, val_mask, test_mask):\n",
        "        self.num_nodes = num_nodes\n",
        "        self.features = torch.tensor(features, dtype=torch.float32)\n",
        "        self.labels = torch.tensor(labels, dtype=torch.long)\n",
        "\n",
        "        self.adj = self.build_adjacency_matrix(edge_index, num_nodes)\n",
        "        self.norm_adj = self.normalize_adjacency(self.adj)\n",
        "\n",
        "        self.train_mask = torch.tensor(train_mask, dtype=torch.bool)\n",
        "        self.val_mask = torch.tensor(val_mask, dtype=torch.bool)\n",
        "        self.test_mask = torch.tensor(test_mask, dtype=torch.bool)\n",
        "\n",
        "    def build_adjacency_matrix(self, edge_index, num_nodes):\n",
        "        row, col = edge_index\n",
        "        values = np.ones(len(row))\n",
        "        adj = sp.coo_matrix((values, (row, col)), shape=(num_nodes, num_nodes), dtype=np.float32)\n",
        "        adj = adj + sp.eye(num_nodes)\n",
        "        return adj\n",
        "\n",
        "    def normalize_adjacency(self, adj):\n",
        "        degree = np.array(adj.sum(axis=1)).flatten()\n",
        "        degree_inv_sqrt = np.power(degree, -0.5)\n",
        "        degree_inv_sqrt[np.isinf(degree_inv_sqrt)] = 0\n",
        "        D_inv_sqrt = sp.diags(degree_inv_sqrt)\n",
        "\n",
        "        norm_adj = D_inv_sqrt @ adj @ D_inv_sqrt\n",
        "        return torch.tensor(norm_adj.toarray(), dtype=torch.float32)"
      ],
      "metadata": {
        "id": "IKv1HCcUo7Di"
      },
      "execution_count": 47,
      "outputs": []
    },
    {
      "cell_type": "code",
      "source": [
        "graph_data = GraphData(edge_index, data.num_nodes, features, labels, train_mask, val_mask, test_mask)"
      ],
      "metadata": {
        "id": "l2QuCpMbbCRI"
      },
      "execution_count": 48,
      "outputs": []
    },
    {
      "cell_type": "code",
      "source": [
        "def compute_laplacian_loss(output, adj):\n",
        "\n",
        "    degree = torch.diag(adj.sum(1))\n",
        "    laplacian = degree - adj\n",
        "    lap_loss = torch.trace(output.T @ laplacian @ output)\n",
        "    return lap_loss"
      ],
      "metadata": {
        "id": "iKHgG9NL028O"
      },
      "execution_count": 52,
      "outputs": []
    },
    {
      "cell_type": "code",
      "source": [
        "import torch\n",
        "import torch.nn as nn\n",
        "import torch.nn.functional as F\n",
        "class GCNLayer(nn.Module):\n",
        "    def __init__(self, in_features, out_features):\n",
        "        super(GCNLayer, self).__init__()\n",
        "        self.weight = nn.Parameter(torch.randn(in_features, out_features) * 0.01)\n",
        "\n",
        "    def forward(self, A_norm, H):\n",
        "        return torch.matmul(A_norm, torch.matmul(H, self.weight))"
      ],
      "metadata": {
        "id": "lqaFIsTVbOod"
      },
      "execution_count": 53,
      "outputs": []
    },
    {
      "cell_type": "code",
      "source": [
        "class GCN(nn.Module):\n",
        "    def __init__(self, input_dim, hidden_dim, output_dim):\n",
        "        super(GCN, self).__init__()\n",
        "        self.gcn1 = GCNLayer(input_dim, hidden_dim)\n",
        "        self.gcn2 = GCNLayer(hidden_dim, output_dim)\n",
        "\n",
        "    def forward(self, A_norm, X):\n",
        "        H = self.gcn1(A_norm, X)\n",
        "        H = F.relu(H)\n",
        "        H = self.gcn2(A_norm, H)\n",
        "        return F.softmax(H, dim=1)"
      ],
      "metadata": {
        "id": "a7mhnRt_b8nC"
      },
      "execution_count": 58,
      "outputs": []
    },
    {
      "cell_type": "code",
      "source": [
        "import torch.optim as optim\n",
        "\n",
        "def train(model, optimizer, features, adj, labels, train_mask, lambda_reg=5e-4, epochs=200):\n",
        "    model.train()\n",
        "    loss_fn = torch.nn.CrossEntropyLoss()\n",
        "\n",
        "    for epoch in range(epochs):\n",
        "        optimizer.zero_grad()\n",
        "        output = model(adj, features)\n",
        "        loss_sup = loss_fn(output[train_mask], labels[train_mask])\n",
        "        loss_reg = compute_laplacian_loss(output, adj)\n",
        "        loss = loss_sup + lambda_reg * loss_reg\n",
        "        loss.backward()\n",
        "        optimizer.step()\n",
        "\n",
        "        if epoch % 10 == 0:\n",
        "            print(f\"Epoch {epoch}: Loss = {loss.item():.4f}\")\n",
        "\n",
        "\n",
        "def evaluate(model, features, adj, labels, mask):\n",
        "    model.eval()\n",
        "    with torch.no_grad():\n",
        "        output = model(adj, features)\n",
        "        pred = output.argmax(dim=1)\n",
        "        acc = (pred[mask] == labels[mask]).sum().item() / mask.sum().item()\n",
        "    return acc\n",
        "\n",
        "input_dim = graph_data.features.shape[1]\n",
        "hidden_dim = 16\n",
        "output_dim = len(set(graph_data.labels.numpy()))\n",
        "\n",
        "gcn = GCN(input_dim, hidden_dim, output_dim)\n",
        "optimizer = optim.Adam(gcn.parameters(), lr=0.01, weight_decay=5e-4)\n",
        "\n",
        "train(gcn, optimizer, graph_data.features, graph_data.norm_adj, graph_data.labels, graph_data.train_mask, epochs=200)\n",
        "\n",
        "train_acc = evaluate(gcn, graph_data.features, graph_data.norm_adj, graph_data.labels, graph_data.train_mask)\n",
        "val_acc = evaluate(gcn, graph_data.features, graph_data.norm_adj, graph_data.labels, graph_data.val_mask)\n",
        "test_acc = evaluate(gcn, graph_data.features, graph_data.norm_adj, graph_data.labels, graph_data.test_mask)\n"
      ],
      "metadata": {
        "colab": {
          "base_uri": "https://localhost:8080/"
        },
        "id": "9QJQP5jZcvvY",
        "outputId": "eb6c363e-7a58-4c0d-92ee-88d4f9059648"
      },
      "execution_count": 68,
      "outputs": [
        {
          "output_type": "stream",
          "name": "stdout",
          "text": [
            "Epoch 0: Loss = 1.7918\n",
            "Epoch 10: Loss = 1.6147\n",
            "Epoch 20: Loss = 1.2058\n",
            "Epoch 30: Loss = 1.1063\n",
            "Epoch 40: Loss = 1.0944\n",
            "Epoch 50: Loss = 1.0918\n",
            "Epoch 60: Loss = 1.0859\n",
            "Epoch 70: Loss = 1.0830\n",
            "Epoch 80: Loss = 1.0808\n",
            "Epoch 90: Loss = 1.0790\n",
            "Epoch 100: Loss = 1.0776\n",
            "Epoch 110: Loss = 1.0764\n",
            "Epoch 120: Loss = 1.0753\n",
            "Epoch 130: Loss = 1.0744\n",
            "Epoch 140: Loss = 1.0736\n",
            "Epoch 150: Loss = 1.0728\n",
            "Epoch 160: Loss = 1.0722\n",
            "Epoch 170: Loss = 1.0717\n",
            "Epoch 180: Loss = 1.0712\n",
            "Epoch 190: Loss = 1.0707\n"
          ]
        }
      ]
    },
    {
      "cell_type": "code",
      "source": [
        "# import itertools\n",
        "# param_grid = {\n",
        "#     \"hidden_dim\": [16, 32, 64],\n",
        "#     \"lr\": [0.01, 0.005, 0.001],\n",
        "#     \"weight_decay\": [5e-4, 1e-3, 5e-3]\n",
        "# }\n",
        "\n",
        "\n",
        "# param_combinations = list(itertools.product(*param_grid.values()))\n",
        "\n",
        "\n",
        "# best_params = None\n",
        "# best_val_acc = 0.0\n",
        "\n",
        "\n",
        "# for params in param_combinations:\n",
        "#     hidden_dim, lr, weight_decay = params\n",
        "#     print(f\"\\n🔹 model - hidden_dim={hidden_dim}, lr={lr}, weight_decay={weight_decay}\")\n",
        "\n",
        "#     model = GCN(input_dim, hidden_dim, output_dim)\n",
        "#     optimizer = optim.Adam(model.parameters(), lr=lr, weight_decay=weight_decay)\n",
        "#     loss_fn = torch.nn.CrossEntropyLoss()\n",
        "\n",
        "#     train(model, optimizer, graph_data.features, graph_data.norm_adj, graph_data.labels, graph_data.train_mask, epochs=200)\n",
        "\n",
        "#     val_acc = evaluate(model, graph_data.features, graph_data.norm_adj, graph_data.labels, graph_data.val_mask)\n",
        "#     print(f\"Validation Accuracy: {val_acc:.4f}\")\n",
        "\n",
        "#     if val_acc > best_val_acc:\n",
        "#         best_val_acc = val_acc\n",
        "#         best_params = params\n",
        "\n",
        "# print(f\"Valid: Hidden Dim: {best_params[0]}, Learning Rate: {best_params[1]}, Weight Decay: {best_params[2]}\")\n",
        "\n",
        "# best_hidden_dim, best_lr, best_weight_decay = best_params\n",
        "# best_model = GCN(input_dim, best_hidden_dim, output_dim)\n",
        "# best_optimizer = optim.Adam(best_model.parameters(), lr=best_lr, weight_decay=best_weight_decay)\n",
        "\n",
        "# train(best_model, best_optimizer, graph_data.features, graph_data.norm_adj, graph_data.labels, graph_data.train_mask, epochs=200)\n",
        "\n",
        "# test_acc = evaluate(best_model, graph_data.features, graph_data.norm_adj, graph_data.labels, graph_data.test_mask)\n",
        "# print(f\"{test_acc:.4f}\")"
      ],
      "metadata": {
        "id": "Ms156-DB78Jw"
      },
      "execution_count": 69,
      "outputs": []
    },
    {
      "cell_type": "code",
      "source": [
        "print(f\"Train Accuracy: {train_acc:.4f}\")\n",
        "print(f\"Validation Accuracy: {val_acc:.4f}\")\n",
        "print(f\"Test Accuracy: {test_acc:.4f}\")"
      ],
      "metadata": {
        "colab": {
          "base_uri": "https://localhost:8080/"
        },
        "id": "-EKCU903fCyK",
        "outputId": "d24e5ebc-f646-43a2-fe37-82b56a5d5f4f"
      },
      "execution_count": 70,
      "outputs": [
        {
          "output_type": "stream",
          "name": "stdout",
          "text": [
            "Train Accuracy: 1.0000\n",
            "Validation Accuracy: 0.6760\n",
            "Test Accuracy: 0.6990\n"
          ]
        }
      ]
    },
    {
      "cell_type": "code",
      "source": [
        "dataset_cora = Planetoid(root='/tmp/Cora', name=\"Cora\")\n",
        "data_cora = dataset_cora[0]\n",
        "\n",
        "input_dim_cora = data_cora.x.shape[1]\n",
        "output_dim_cora = len(set(data_cora.y.numpy()))\n",
        "\n",
        "graph_data_cora = GraphData(\n",
        "    data_cora.edge_index.numpy(), data_cora.num_nodes,\n",
        "    data_cora.x.numpy(), data_cora.y.numpy(),\n",
        "    data_cora.train_mask.numpy(), data_cora.val_mask.numpy(), data_cora.test_mask.numpy()\n",
        ")\n",
        "\n",
        "model_cora = GCN(input_dim_cora, hidden_dim, output_dim_cora)\n",
        "optimizer_cora = optim.Adam(model_cora.parameters(), lr=0.01, weight_decay=5e-4)\n",
        "\n",
        "train(model_cora, optimizer_cora, graph_data_cora.features, graph_data_cora.norm_adj, graph_data_cora.labels, graph_data_cora.train_mask, epochs=200)\n",
        "\n",
        "test_acc_cora = evaluate(model_cora, graph_data_cora.features, graph_data_cora.norm_adj, graph_data_cora.labels, graph_data_cora.test_mask)\n",
        "print(f\"Test Accuracy on Cora: {test_acc_cora:.4f}\")\n"
      ],
      "metadata": {
        "colab": {
          "base_uri": "https://localhost:8080/"
        },
        "id": "wvdcSSQH9tCc",
        "outputId": "55a7f102-9983-491b-e559-0b55982a5c4c"
      },
      "execution_count": 73,
      "outputs": [
        {
          "output_type": "stream",
          "name": "stdout",
          "text": [
            "Epoch 0: Loss = 1.9459\n",
            "Epoch 10: Loss = 1.8724\n",
            "Epoch 20: Loss = 1.5616\n",
            "Epoch 30: Loss = 1.3011\n",
            "Epoch 40: Loss = 1.2359\n",
            "Epoch 50: Loss = 1.2300\n",
            "Epoch 60: Loss = 1.2294\n",
            "Epoch 70: Loss = 1.2253\n",
            "Epoch 80: Loss = 1.2225\n",
            "Epoch 90: Loss = 1.2208\n",
            "Epoch 100: Loss = 1.2193\n",
            "Epoch 110: Loss = 1.2181\n",
            "Epoch 120: Loss = 1.2170\n",
            "Epoch 130: Loss = 1.2160\n",
            "Epoch 140: Loss = 1.2152\n",
            "Epoch 150: Loss = 1.2144\n",
            "Epoch 160: Loss = 1.2138\n",
            "Epoch 170: Loss = 1.2132\n",
            "Epoch 180: Loss = 1.2126\n",
            "Epoch 190: Loss = 1.2121\n",
            "Test Accuracy on Cora: 0.8250\n"
          ]
        }
      ]
    },
    {
      "cell_type": "code",
      "source": [
        "dataset_pubmed = Planetoid(root='/tmp/PubMed', name=\"PubMed\")\n",
        "data_pubmed = dataset_pubmed[0]\n",
        "\n",
        "input_dim_pubmed = data_pubmed.x.shape[1]\n",
        "output_dim_pubmed = len(set(data_pubmed.y.numpy()))\n",
        "\n",
        "graph_data_pubmed = GraphData(\n",
        "    data_pubmed.edge_index.numpy(), data_pubmed.num_nodes,\n",
        "    data_pubmed.x.numpy(), data_pubmed.y.numpy(),\n",
        "    data_pubmed.train_mask.numpy(), data_pubmed.val_mask.numpy(), data_pubmed.test_mask.numpy()\n",
        ")\n",
        "\n",
        "model_pubmed = GCN(input_dim_pubmed, 16, output_dim_pubmed)\n",
        "optimizer_pubmed = optim.Adam(model_pubmed.parameters(), lr=0.01, weight_decay=5e-4)\n",
        "\n",
        "train(model_pubmed, optimizer_pubmed, graph_data_pubmed.features, graph_data_pubmed.norm_adj, graph_data_pubmed.labels, graph_data_pubmed.train_mask, epochs=200)\n",
        "\n",
        "test_acc_pubmed = evaluate(model_pubmed, graph_data_pubmed.features, graph_data_pubmed.norm_adj, graph_data_pubmed.labels, graph_data_pubmed.test_mask)\n",
        "print(f\"Test Accuracy on PubMed: {test_acc_pubmed:.4f}\")"
      ],
      "metadata": {
        "colab": {
          "base_uri": "https://localhost:8080/"
        },
        "id": "htZvQPVofMhD",
        "outputId": "b76606ed-6ae8-410e-af71-83efee699db2"
      },
      "execution_count": null,
      "outputs": [
        {
          "output_type": "stream",
          "name": "stdout",
          "text": [
            "Epoch 0: Loss = 1.0986\n",
            "Epoch 10: Loss = 1.0870\n",
            "Epoch 20: Loss = 1.0440\n",
            "Epoch 30: Loss = 0.9871\n",
            "Epoch 40: Loss = 0.9333\n",
            "Epoch 50: Loss = 0.8902\n",
            "Epoch 60: Loss = 0.8589\n",
            "Epoch 70: Loss = 0.8367\n",
            "Epoch 80: Loss = 0.8184\n"
          ]
        }
      ]
    },
    {
      "cell_type": "code",
      "source": [],
      "metadata": {
        "id": "zFaso_itAIPA"
      },
      "execution_count": null,
      "outputs": []
    }
  ]
}