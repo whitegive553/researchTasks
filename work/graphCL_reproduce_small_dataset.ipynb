{
  "nbformat": 4,
  "nbformat_minor": 0,
  "metadata": {
    "colab": {
      "provenance": []
    },
    "kernelspec": {
      "name": "python3",
      "display_name": "Python 3"
    },
    "language_info": {
      "name": "python"
    }
  },
  "cells": [
    {
      "cell_type": "code",
      "source": [
        "!pip install torch torchvision torchaudio\n",
        "!pip install torch_geometric"
      ],
      "metadata": {
        "colab": {
          "base_uri": "https://localhost:8080/"
        },
        "id": "B29Lb47ww7TX",
        "outputId": "7f54a49d-c1aa-449a-e61f-28f217c0bc5d"
      },
      "execution_count": null,
      "outputs": [
        {
          "output_type": "stream",
          "name": "stdout",
          "text": [
            "Requirement already satisfied: torch in /usr/local/lib/python3.11/dist-packages (2.5.1+cu124)\n",
            "Requirement already satisfied: torchvision in /usr/local/lib/python3.11/dist-packages (0.20.1+cu124)\n",
            "Requirement already satisfied: torchaudio in /usr/local/lib/python3.11/dist-packages (2.5.1+cu124)\n",
            "Requirement already satisfied: filelock in /usr/local/lib/python3.11/dist-packages (from torch) (3.17.0)\n",
            "Requirement already satisfied: typing-extensions>=4.8.0 in /usr/local/lib/python3.11/dist-packages (from torch) (4.12.2)\n",
            "Requirement already satisfied: networkx in /usr/local/lib/python3.11/dist-packages (from torch) (3.4.2)\n",
            "Requirement already satisfied: jinja2 in /usr/local/lib/python3.11/dist-packages (from torch) (3.1.5)\n",
            "Requirement already satisfied: fsspec in /usr/local/lib/python3.11/dist-packages (from torch) (2024.10.0)\n",
            "Requirement already satisfied: nvidia-cuda-nvrtc-cu12==12.4.127 in /usr/local/lib/python3.11/dist-packages (from torch) (12.4.127)\n",
            "Requirement already satisfied: nvidia-cuda-runtime-cu12==12.4.127 in /usr/local/lib/python3.11/dist-packages (from torch) (12.4.127)\n",
            "Requirement already satisfied: nvidia-cuda-cupti-cu12==12.4.127 in /usr/local/lib/python3.11/dist-packages (from torch) (12.4.127)\n",
            "Requirement already satisfied: nvidia-cudnn-cu12==9.1.0.70 in /usr/local/lib/python3.11/dist-packages (from torch) (9.1.0.70)\n",
            "Requirement already satisfied: nvidia-cublas-cu12==12.4.5.8 in /usr/local/lib/python3.11/dist-packages (from torch) (12.4.5.8)\n",
            "Requirement already satisfied: nvidia-cufft-cu12==11.2.1.3 in /usr/local/lib/python3.11/dist-packages (from torch) (11.2.1.3)\n",
            "Requirement already satisfied: nvidia-curand-cu12==10.3.5.147 in /usr/local/lib/python3.11/dist-packages (from torch) (10.3.5.147)\n",
            "Requirement already satisfied: nvidia-cusolver-cu12==11.6.1.9 in /usr/local/lib/python3.11/dist-packages (from torch) (11.6.1.9)\n",
            "Requirement already satisfied: nvidia-cusparse-cu12==12.3.1.170 in /usr/local/lib/python3.11/dist-packages (from torch) (12.3.1.170)\n",
            "Requirement already satisfied: nvidia-nccl-cu12==2.21.5 in /usr/local/lib/python3.11/dist-packages (from torch) (2.21.5)\n",
            "Requirement already satisfied: nvidia-nvtx-cu12==12.4.127 in /usr/local/lib/python3.11/dist-packages (from torch) (12.4.127)\n",
            "Requirement already satisfied: nvidia-nvjitlink-cu12==12.4.127 in /usr/local/lib/python3.11/dist-packages (from torch) (12.4.127)\n",
            "Requirement already satisfied: triton==3.1.0 in /usr/local/lib/python3.11/dist-packages (from torch) (3.1.0)\n",
            "Requirement already satisfied: sympy==1.13.1 in /usr/local/lib/python3.11/dist-packages (from torch) (1.13.1)\n",
            "Requirement already satisfied: mpmath<1.4,>=1.1.0 in /usr/local/lib/python3.11/dist-packages (from sympy==1.13.1->torch) (1.3.0)\n",
            "Requirement already satisfied: numpy in /usr/local/lib/python3.11/dist-packages (from torchvision) (1.26.4)\n",
            "Requirement already satisfied: pillow!=8.3.*,>=5.3.0 in /usr/local/lib/python3.11/dist-packages (from torchvision) (11.1.0)\n",
            "Requirement already satisfied: MarkupSafe>=2.0 in /usr/local/lib/python3.11/dist-packages (from jinja2->torch) (3.0.2)\n",
            "Requirement already satisfied: torch_geometric in /usr/local/lib/python3.11/dist-packages (2.6.1)\n",
            "Requirement already satisfied: aiohttp in /usr/local/lib/python3.11/dist-packages (from torch_geometric) (3.11.12)\n",
            "Requirement already satisfied: fsspec in /usr/local/lib/python3.11/dist-packages (from torch_geometric) (2024.10.0)\n",
            "Requirement already satisfied: jinja2 in /usr/local/lib/python3.11/dist-packages (from torch_geometric) (3.1.5)\n",
            "Requirement already satisfied: numpy in /usr/local/lib/python3.11/dist-packages (from torch_geometric) (1.26.4)\n",
            "Requirement already satisfied: psutil>=5.8.0 in /usr/local/lib/python3.11/dist-packages (from torch_geometric) (5.9.5)\n",
            "Requirement already satisfied: pyparsing in /usr/local/lib/python3.11/dist-packages (from torch_geometric) (3.2.1)\n",
            "Requirement already satisfied: requests in /usr/local/lib/python3.11/dist-packages (from torch_geometric) (2.32.3)\n",
            "Requirement already satisfied: tqdm in /usr/local/lib/python3.11/dist-packages (from torch_geometric) (4.67.1)\n",
            "Requirement already satisfied: aiohappyeyeballs>=2.3.0 in /usr/local/lib/python3.11/dist-packages (from aiohttp->torch_geometric) (2.4.6)\n",
            "Requirement already satisfied: aiosignal>=1.1.2 in /usr/local/lib/python3.11/dist-packages (from aiohttp->torch_geometric) (1.3.2)\n",
            "Requirement already satisfied: attrs>=17.3.0 in /usr/local/lib/python3.11/dist-packages (from aiohttp->torch_geometric) (25.1.0)\n",
            "Requirement already satisfied: frozenlist>=1.1.1 in /usr/local/lib/python3.11/dist-packages (from aiohttp->torch_geometric) (1.5.0)\n",
            "Requirement already satisfied: multidict<7.0,>=4.5 in /usr/local/lib/python3.11/dist-packages (from aiohttp->torch_geometric) (6.1.0)\n",
            "Requirement already satisfied: propcache>=0.2.0 in /usr/local/lib/python3.11/dist-packages (from aiohttp->torch_geometric) (0.2.1)\n",
            "Requirement already satisfied: yarl<2.0,>=1.17.0 in /usr/local/lib/python3.11/dist-packages (from aiohttp->torch_geometric) (1.18.3)\n",
            "Requirement already satisfied: MarkupSafe>=2.0 in /usr/local/lib/python3.11/dist-packages (from jinja2->torch_geometric) (3.0.2)\n",
            "Requirement already satisfied: charset-normalizer<4,>=2 in /usr/local/lib/python3.11/dist-packages (from requests->torch_geometric) (3.4.1)\n",
            "Requirement already satisfied: idna<4,>=2.5 in /usr/local/lib/python3.11/dist-packages (from requests->torch_geometric) (3.10)\n",
            "Requirement already satisfied: urllib3<3,>=1.21.1 in /usr/local/lib/python3.11/dist-packages (from requests->torch_geometric) (2.3.0)\n",
            "Requirement already satisfied: certifi>=2017.4.17 in /usr/local/lib/python3.11/dist-packages (from requests->torch_geometric) (2025.1.31)\n"
          ]
        }
      ]
    },
    {
      "cell_type": "code",
      "execution_count": null,
      "metadata": {
        "colab": {
          "base_uri": "https://localhost:8080/"
        },
        "id": "dCYyRBcyuL-A",
        "outputId": "7599f435-b5b2-4b3c-85d1-1515e96d9d3b"
      },
      "outputs": [
        {
          "output_type": "stream",
          "name": "stdout",
          "text": [
            "Train nodes: 2095, Val nodes: 270, Test nodes: 270\n"
          ]
        }
      ],
      "source": [
        "from torch_geometric.datasets import Planetoid\n",
        "\n",
        "dataset = Planetoid(root='./data/Cora', name=\"Cora\", split=\"random\" ,num_val=270, num_test=270, num_train_per_class=350)\n",
        "\n",
        "data = dataset[0]\n",
        "\n",
        "print(f\"Train nodes: {data.train_mask.sum().item()}, Val nodes: {data.val_mask.sum().item()}, Test nodes: {data.test_mask.sum().item()}\")\n"
      ]
    },
    {
      "cell_type": "markdown",
      "source": [
        "![image.png](data:image/png;base64,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)"
      ],
      "metadata": {
        "id": "27dZyY9kAbYT"
      }
    },
    {
      "cell_type": "code",
      "source": [
        "import torch\n",
        "import torch.nn.functional as F\n",
        "from torch_geometric.nn import GCNConv\n",
        "\n",
        "class GCN(torch.nn.Module):\n",
        "    def __init__(self, in_channels, hidden_channels, out_channels):\n",
        "        super(GCN, self).__init__()\n",
        "        self.conv1 = GCNConv(in_channels, hidden_channels)\n",
        "        self.conv2 = GCNConv(hidden_channels, out_channels)\n",
        "\n",
        "    def forward(self, x, edge_index):\n",
        "        x = self.conv1(x, edge_index)\n",
        "        x = F.relu(x)\n",
        "        x = self.conv2(x, edge_index)\n",
        "        return x"
      ],
      "metadata": {
        "id": "mOPAJBvg--Yh"
      },
      "execution_count": null,
      "outputs": []
    },
    {
      "cell_type": "code",
      "source": [
        "class ProjectionMLP(torch.nn.Module):\n",
        "    def __init__(self, in_dim, hidden_dim, out_dim):\n",
        "        super(ProjectionMLP, self).__init__()\n",
        "        self.fc1 = torch.nn.Linear(in_dim, hidden_dim)\n",
        "        self.fc2 = torch.nn.Linear(hidden_dim, out_dim)\n",
        "\n",
        "    def forward(self, x):\n",
        "        x = F.relu(self.fc1(x))\n",
        "        x = self.fc2(x)\n",
        "        return x"
      ],
      "metadata": {
        "id": "S8Hv8zTzCKEd"
      },
      "execution_count": null,
      "outputs": []
    },
    {
      "cell_type": "code",
      "source": [
        "import random\n",
        "\n",
        "def node_dropping(data, drop_prob=0.2):\n",
        "    num_nodes = data.num_nodes\n",
        "    mask = torch.rand(num_nodes) > drop_prob\n",
        "    mask_idx = torch.where(mask)[0]\n",
        "\n",
        "    data.x = data.x[mask_idx]\n",
        "\n",
        "    mapping = {old_idx.item(): new_idx for new_idx, old_idx in enumerate(mask_idx)}\n",
        "    new_edge_index = []\n",
        "    for i in range(data.edge_index.shape[1]):\n",
        "        u, v = data.edge_index[:, i]\n",
        "        if u.item() in mapping and v.item() in mapping:\n",
        "            new_edge_index.append([mapping[u.item()], mapping[v.item()]])\n",
        "\n",
        "    data.edge_index = torch.tensor(new_edge_index, dtype=torch.long).T\n",
        "    return data\n",
        "\n",
        "def edge_perturbation(data, perturb_prob=0.2):\n",
        "    num_edges = data.edge_index.shape[1]\n",
        "    num_remove = int(perturb_prob * num_edges)\n",
        "\n",
        "    mask = torch.rand(num_edges) > perturb_prob\n",
        "    data.edge_index = data.edge_index[:, mask]\n",
        "\n",
        "    num_add = num_remove\n",
        "    new_edges = torch.randint(0, data.num_nodes, (2, num_add))\n",
        "    data.edge_index = torch.cat([data.edge_index, new_edges], dim=1)\n",
        "\n",
        "    return data\n"
      ],
      "metadata": {
        "id": "s-LMLU-CwxLo"
      },
      "execution_count": null,
      "outputs": []
    },
    {
      "cell_type": "code",
      "source": [
        "def info_nce_loss(z1, z2, tau=0.5):\n",
        "    z1 = F.normalize(z1, dim=1)\n",
        "    z2 = F.normalize(z2, dim=1)\n",
        "\n",
        "    similarity_matrix = torch.mm(z1, z2.T) / tau\n",
        "    labels = torch.arange(z1.shape[0]).to(z1.device)\n",
        "\n",
        "    loss = F.cross_entropy(similarity_matrix, labels)\n",
        "    return loss\n"
      ],
      "metadata": {
        "id": "YcZI0MkjGDc-"
      },
      "execution_count": null,
      "outputs": []
    },
    {
      "cell_type": "code",
      "source": [
        "def train_graphcl(data, gcn, projection, optimizer, epochs=100):\n",
        "    gcn.train()\n",
        "    projection.train()\n",
        "\n",
        "    for epoch in range(epochs):\n",
        "        optimizer.zero_grad()\n",
        "\n",
        "        data_aug1 = node_dropping(data.clone(), drop_prob=0.2)\n",
        "        data_aug2 = edge_perturbation(data.clone(), perturb_prob=0.2)\n",
        "\n",
        "        h1 = gcn(data_aug1.x, data_aug1.edge_index)\n",
        "        h2 = gcn(data_aug2.x, data_aug2.edge_index)\n",
        "\n",
        "        z1 = projection(h1)\n",
        "        z2 = projection(h2)\n",
        "\n",
        "        loss = info_nce_loss(z1, z2)\n",
        "\n",
        "        loss.backward()\n",
        "        optimizer.step()\n",
        "\n",
        "        if epoch % 10 == 0:\n",
        "            print(f\"Epoch {epoch}, Loss: {loss.item():.4f}\")\n"
      ],
      "metadata": {
        "id": "gI5GfMLmHjma"
      },
      "execution_count": null,
      "outputs": []
    },
    {
      "cell_type": "code",
      "source": [
        "gcn = GCN(in_channels=dataset.num_features, hidden_channels=128, out_channels=128)\n",
        "projection_head = ProjectionMLP(in_dim=128, hidden_dim=128, out_dim=64)\n",
        "\n",
        "optimizer = torch.optim.Adam(list(gcn.parameters()) + list(projection_head.parameters()), lr=0.01)\n",
        "\n",
        "train_graphcl(data, gcn, projection_head, optimizer, epochs=100)\n"
      ],
      "metadata": {
        "colab": {
          "base_uri": "https://localhost:8080/"
        },
        "id": "K4urXZhjL4-d",
        "outputId": "18185f73-4e58-4176-d13e-306781120f3f"
      },
      "execution_count": null,
      "outputs": [
        {
          "output_type": "stream",
          "name": "stdout",
          "text": [
            "Epoch 0, Loss: 7.9037\n",
            "Epoch 10, Loss: 7.8990\n",
            "Epoch 20, Loss: 7.8954\n",
            "Epoch 30, Loss: 7.8890\n",
            "Epoch 40, Loss: 7.8696\n",
            "Epoch 50, Loss: 7.8556\n",
            "Epoch 60, Loss: 7.8230\n",
            "Epoch 70, Loss: 7.7982\n",
            "Epoch 80, Loss: 7.7709\n",
            "Epoch 90, Loss: 7.7582\n"
          ]
        }
      ]
    },
    {
      "cell_type": "code",
      "source": [
        "import torch\n",
        "import torch.nn.functional as F\n",
        "\n",
        "class ClassifierMLP(torch.nn.Module):\n",
        "    def __init__(self, in_dim, num_classes):\n",
        "        super(ClassifierMLP, self).__init__()\n",
        "        self.fc = torch.nn.Linear(in_dim, num_classes)\n",
        "\n",
        "    def forward(self, x):\n",
        "        return self.fc(x)\n"
      ],
      "metadata": {
        "id": "QyOnHH4EL8mB"
      },
      "execution_count": null,
      "outputs": []
    },
    {
      "cell_type": "code",
      "source": [
        "def fine_tune(data, gcn, classifier, optimizer, epochs=100):\n",
        "    gcn.eval()\n",
        "    classifier.train()\n",
        "\n",
        "    for epoch in range(epochs):\n",
        "        optimizer.zero_grad()\n",
        "\n",
        "        with torch.no_grad():\n",
        "            h = gcn(data.x, data.edge_index)\n",
        "\n",
        "        logits = classifier(h)\n",
        "\n",
        "        loss = F.cross_entropy(logits[data.train_mask], data.y[data.train_mask])\n",
        "\n",
        "        loss.backward()\n",
        "        optimizer.step()\n",
        "\n",
        "        if epoch % 10 == 0:\n",
        "            print(f\"Epoch {epoch}, Loss: {loss.item():.4f}\")\n"
      ],
      "metadata": {
        "id": "RRxiShh6MzJ0"
      },
      "execution_count": null,
      "outputs": []
    },
    {
      "cell_type": "code",
      "source": [
        "def evaluate(data, gcn, classifier):\n",
        "    gcn.eval()\n",
        "    classifier.eval()\n",
        "\n",
        "    with torch.no_grad():\n",
        "        h = gcn(data.x, data.edge_index)\n",
        "        logits = classifier(h)\n",
        "\n",
        "    pred = logits.argmax(dim=1)\n",
        "    acc_train = (pred[data.train_mask] == data.y[data.train_mask]).sum().item() / data.train_mask.sum().item()\n",
        "    acc_val = (pred[data.val_mask] == data.y[data.val_mask]).sum().item() / data.val_mask.sum().item()\n",
        "    acc_test = (pred[data.test_mask] == data.y[data.test_mask]).sum().item() / data.test_mask.sum().item()\n",
        "\n",
        "    print(f\"Train Acc: {acc_train:.4f}, Val Acc: {acc_val:.4f}, Test Acc: {acc_test:.4f}\")\n"
      ],
      "metadata": {
        "id": "nkhMEoHMM39G"
      },
      "execution_count": null,
      "outputs": []
    },
    {
      "cell_type": "code",
      "source": [
        "from torch_geometric.datasets import Planetoid\n",
        "\n",
        "classifier = ClassifierMLP(in_dim=128, num_classes=dataset.num_classes)\n",
        "optimizer = torch.optim.Adam(classifier.parameters(), lr=0.01)\n",
        "fine_tune(data, gcn, classifier, optimizer, epochs=100)\n",
        "\n",
        "evaluate(data, gcn, classifier)\n"
      ],
      "metadata": {
        "colab": {
          "base_uri": "https://localhost:8080/"
        },
        "id": "_RDPinpqM8NU",
        "outputId": "c7f0f270-be0b-4117-b9c6-218bfdfc215c"
      },
      "execution_count": null,
      "outputs": [
        {
          "output_type": "stream",
          "name": "stdout",
          "text": [
            "Epoch 0, Loss: 1.9608\n",
            "Epoch 10, Loss: 1.6203\n",
            "Epoch 20, Loss: 1.4275\n",
            "Epoch 30, Loss: 1.2863\n",
            "Epoch 40, Loss: 1.1825\n",
            "Epoch 50, Loss: 1.1036\n",
            "Epoch 60, Loss: 1.0417\n",
            "Epoch 70, Loss: 0.9919\n",
            "Epoch 80, Loss: 0.9507\n",
            "Epoch 90, Loss: 0.9159\n",
            "Train Acc: 0.7437, Val Acc: 0.6519, Test Acc: 0.6593\n"
          ]
        }
      ]
    },
    {
      "cell_type": "code",
      "source": [
        "# from torch_geometric.datasets import TUDataset\n",
        "\n",
        "# dataset_name = \"NCI1\"\n",
        "# dataset = TUDataset(root='./data', name=dataset_name)\n"
      ],
      "metadata": {
        "colab": {
          "base_uri": "https://localhost:8080/"
        },
        "id": "K6y1sN7vNInj",
        "outputId": "a1ac10a6-fcc8-40fb-a75d-81bce3cb4077"
      },
      "execution_count": null,
      "outputs": [
        {
          "output_type": "stream",
          "name": "stderr",
          "text": [
            "Downloading https://www.chrsmrrs.com/graphkerneldatasets/NCI1.zip\n",
            "Processing...\n",
            "Done!\n"
          ]
        }
      ]
    },
    {
      "cell_type": "code",
      "source": [
        "# from torch_geometric.nn import global_mean_pool\n",
        "\n",
        "# def fine_tune(data, gcn, classifier, optimizer, epochs=100):\n",
        "#     gcn.eval()\n",
        "#     classifier.train()\n",
        "\n",
        "#     for epoch in range(epochs):\n",
        "#         optimizer.zero_grad()\n",
        "\n",
        "#         with torch.no_grad():\n",
        "#             h = gcn(data.x, data.edge_index)\n",
        "#             h = global_mean_pool(h, data.batch)\n",
        "\n",
        "#         logits = classifier(h)\n",
        "#         loss = F.cross_entropy(logits, data.y)\n",
        "\n",
        "#         loss.backward()\n",
        "#         optimizer.step()\n",
        "\n",
        "#         if epoch % 10 == 0:\n",
        "#             print(f\"Epoch {epoch}, Loss: {loss.item():.4f}\")\n"
      ],
      "metadata": {
        "id": "78m1qVKcRhMD"
      },
      "execution_count": null,
      "outputs": []
    },
    {
      "cell_type": "code",
      "source": [
        "# from torch_geometric.loader import DataLoader\n",
        "\n",
        "# batch_size = 32\n",
        "# train_loader = DataLoader(dataset, batch_size=batch_size, shuffle=True)\n"
      ],
      "metadata": {
        "id": "sCkc83H_Rqm5"
      },
      "execution_count": null,
      "outputs": []
    },
    {
      "cell_type": "code",
      "source": [
        "# def train_graphcl(loader, gcn, projection, optimizer, epochs=100):\n",
        "#     gcn.train()\n",
        "#     projection.train()\n",
        "\n",
        "#     for epoch in range(epochs):\n",
        "#         for data in loader:\n",
        "#             optimizer.zero_grad()\n",
        "\n",
        "#             data_aug1 = node_dropping(data.clone(), drop_prob=0.2)\n",
        "#             data_aug2 = edge_perturbation(data.clone(), perturb_prob=0.2)\n",
        "\n",
        "#             h1 = gcn(data_aug1.x, data_aug1.edge_index)\n",
        "#             h2 = gcn(data_aug2.x, data_aug2.edge_index)\n",
        "\n",
        "#             h1 = global_mean_pool(h1, data.batch)\n",
        "#             h2 = global_mean_pool(h2, data.batch)\n",
        "\n",
        "#             z1 = projection(h1)\n",
        "#             z2 = projection(h2)\n",
        "\n",
        "#             loss = info_nce_loss(z1, z2)\n",
        "\n",
        "#             loss.backward()\n",
        "#             optimizer.step()\n",
        "\n",
        "#         if epoch % 10 == 0:\n",
        "#             print(f\"Epoch {epoch}, Loss: {loss.item():.4f}\")\n"
      ],
      "metadata": {
        "id": "JfZc35FDRzsE"
      },
      "execution_count": null,
      "outputs": []
    },
    {
      "cell_type": "code",
      "source": [
        "# class GraphClassifierMLP(torch.nn.Module):\n",
        "#     def __init__(self, in_dim, hidden_dim, num_classes):\n",
        "#         super(GraphClassifierMLP, self).__init__()\n",
        "#         self.fc1 = torch.nn.Linear(in_dim, hidden_dim)\n",
        "#         self.fc2 = torch.nn.Linear(hidden_dim, num_classes)\n",
        "\n",
        "#     def forward(self, x):\n",
        "#         x = F.relu(self.fc1(x))\n",
        "#         x = self.fc2(x)\n",
        "#         return x\n"
      ],
      "metadata": {
        "id": "3cr-hjErSGnV"
      },
      "execution_count": null,
      "outputs": []
    },
    {
      "cell_type": "code",
      "source": [
        "# def fine_tune(loader, gcn, classifier, optimizer, epochs=100):\n",
        "#     gcn.eval()\n",
        "#     classifier.train()\n",
        "\n",
        "#     for epoch in range(epochs):\n",
        "#         for data in loader:\n",
        "#             optimizer.zero_grad()\n",
        "\n",
        "#             with torch.no_grad():\n",
        "#                 h = gcn(data.x, data.edge_index)\n",
        "#                 h = global_mean_pool(h, data.batch)\n",
        "\n",
        "#             logits = classifier(h)\n",
        "#             loss = F.cross_entropy(logits, data.y)\n",
        "\n",
        "#             loss.backward()\n",
        "#             optimizer.step()\n",
        "\n",
        "#         if epoch % 10 == 0:\n",
        "#             print(f\"Epoch {epoch}, Loss: {loss.item():.4f}\")\n",
        "\n"
      ],
      "metadata": {
        "id": "zEjxHLhUSNTL"
      },
      "execution_count": null,
      "outputs": []
    },
    {
      "cell_type": "code",
      "source": [
        "# dataset_name = \"NCI1\"\n",
        "# dataset = TUDataset(root='./data', name=dataset_name)\n",
        "\n",
        "# num_train = int(len(dataset) * 0.8)\n",
        "# num_val = int(len(dataset) * 0.1)\n",
        "# num_test = len(dataset) - num_train - num_val\n",
        "\n",
        "# train_dataset, val_dataset, test_dataset = torch.utils.data.random_split(dataset, [num_train, num_val, num_test])\n",
        "\n",
        "# batch_size = 32\n",
        "# train_loader = DataLoader(train_dataset, batch_size=batch_size, shuffle=True)\n",
        "# val_loader = DataLoader(val_dataset, batch_size=batch_size, shuffle=False)\n",
        "# test_loader = DataLoader(test_dataset, batch_size=batch_size, shuffle=False)\n",
        "\n",
        "# gcn = GCN(in_channels=dataset.num_features, hidden_channels=128, out_channels=128)\n",
        "# projection_head = ProjectionMLP(in_dim=128, hidden_dim=64, out_dim=64)\n",
        "# classifier = GraphClassifierMLP(in_dim=128, hidden_dim=64, num_classes=dataset.num_classes)\n",
        "\n",
        "# optimizer_graphcl = torch.optim.Adam(list(gcn.parameters()) + list(projection_head.parameters()), lr=0.01)\n",
        "# optimizer_finetune = torch.optim.Adam(classifier.parameters(), lr=0.01)\n",
        "\n",
        "# train_graphcl(train_loader, gcn, projection_head, optimizer_graphcl, epochs=100)\n",
        "\n",
        "# fine_tune(train_loader, gcn, classifier, optimizer_finetune, epochs=100)\n",
        "\n",
        "# evaluate(test_loader, gcn, classifier)"
      ],
      "metadata": {
        "colab": {
          "base_uri": "https://localhost:8080/",
          "height": 374
        },
        "id": "Vwi3IQMdSPfH",
        "outputId": "989b287e-c5a9-4cf9-efad-6c07027ce317"
      },
      "execution_count": null,
      "outputs": [
        {
          "output_type": "error",
          "ename": "RuntimeError",
          "evalue": "Expected index [999] to be smaller than self [32] apart from dimension 0 and to be smaller size than src [819]",
          "traceback": [
            "\u001b[0;31m---------------------------------------------------------------------------\u001b[0m",
            "\u001b[0;31mRuntimeError\u001b[0m                              Traceback (most recent call last)",
            "\u001b[0;32m<ipython-input-25-a792176e5f08>\u001b[0m in \u001b[0;36m<cell line: 0>\u001b[0;34m()\u001b[0m\n\u001b[1;32m     20\u001b[0m \u001b[0moptimizer_finetune\u001b[0m \u001b[0;34m=\u001b[0m \u001b[0mtorch\u001b[0m\u001b[0;34m.\u001b[0m\u001b[0moptim\u001b[0m\u001b[0;34m.\u001b[0m\u001b[0mAdam\u001b[0m\u001b[0;34m(\u001b[0m\u001b[0mclassifier\u001b[0m\u001b[0;34m.\u001b[0m\u001b[0mparameters\u001b[0m\u001b[0;34m(\u001b[0m\u001b[0;34m)\u001b[0m\u001b[0;34m,\u001b[0m \u001b[0mlr\u001b[0m\u001b[0;34m=\u001b[0m\u001b[0;36m0.01\u001b[0m\u001b[0;34m)\u001b[0m\u001b[0;34m\u001b[0m\u001b[0;34m\u001b[0m\u001b[0m\n\u001b[1;32m     21\u001b[0m \u001b[0;34m\u001b[0m\u001b[0m\n\u001b[0;32m---> 22\u001b[0;31m \u001b[0mtrain_graphcl\u001b[0m\u001b[0;34m(\u001b[0m\u001b[0mtrain_loader\u001b[0m\u001b[0;34m,\u001b[0m \u001b[0mgcn\u001b[0m\u001b[0;34m,\u001b[0m \u001b[0mprojection_head\u001b[0m\u001b[0;34m,\u001b[0m \u001b[0moptimizer_graphcl\u001b[0m\u001b[0;34m,\u001b[0m \u001b[0mepochs\u001b[0m\u001b[0;34m=\u001b[0m\u001b[0;36m100\u001b[0m\u001b[0;34m)\u001b[0m\u001b[0;34m\u001b[0m\u001b[0;34m\u001b[0m\u001b[0m\n\u001b[0m\u001b[1;32m     23\u001b[0m \u001b[0;34m\u001b[0m\u001b[0m\n\u001b[1;32m     24\u001b[0m \u001b[0mfine_tune\u001b[0m\u001b[0;34m(\u001b[0m\u001b[0mtrain_loader\u001b[0m\u001b[0;34m,\u001b[0m \u001b[0mgcn\u001b[0m\u001b[0;34m,\u001b[0m \u001b[0mclassifier\u001b[0m\u001b[0;34m,\u001b[0m \u001b[0moptimizer_finetune\u001b[0m\u001b[0;34m,\u001b[0m \u001b[0mepochs\u001b[0m\u001b[0;34m=\u001b[0m\u001b[0;36m100\u001b[0m\u001b[0;34m)\u001b[0m\u001b[0;34m\u001b[0m\u001b[0;34m\u001b[0m\u001b[0m\n",
            "\u001b[0;32m<ipython-input-20-6a02c0d2a988>\u001b[0m in \u001b[0;36mtrain_graphcl\u001b[0;34m(loader, gcn, projection, optimizer, epochs)\u001b[0m\n\u001b[1;32m     13\u001b[0m             \u001b[0mh2\u001b[0m \u001b[0;34m=\u001b[0m \u001b[0mgcn\u001b[0m\u001b[0;34m(\u001b[0m\u001b[0mdata_aug2\u001b[0m\u001b[0;34m.\u001b[0m\u001b[0mx\u001b[0m\u001b[0;34m,\u001b[0m \u001b[0mdata_aug2\u001b[0m\u001b[0;34m.\u001b[0m\u001b[0medge_index\u001b[0m\u001b[0;34m)\u001b[0m\u001b[0;34m\u001b[0m\u001b[0;34m\u001b[0m\u001b[0m\n\u001b[1;32m     14\u001b[0m \u001b[0;34m\u001b[0m\u001b[0m\n\u001b[0;32m---> 15\u001b[0;31m             \u001b[0mh1\u001b[0m \u001b[0;34m=\u001b[0m \u001b[0mglobal_mean_pool\u001b[0m\u001b[0;34m(\u001b[0m\u001b[0mh1\u001b[0m\u001b[0;34m,\u001b[0m \u001b[0mdata\u001b[0m\u001b[0;34m.\u001b[0m\u001b[0mbatch\u001b[0m\u001b[0;34m)\u001b[0m\u001b[0;34m\u001b[0m\u001b[0;34m\u001b[0m\u001b[0m\n\u001b[0m\u001b[1;32m     16\u001b[0m             \u001b[0mh2\u001b[0m \u001b[0;34m=\u001b[0m \u001b[0mglobal_mean_pool\u001b[0m\u001b[0;34m(\u001b[0m\u001b[0mh2\u001b[0m\u001b[0;34m,\u001b[0m \u001b[0mdata\u001b[0m\u001b[0;34m.\u001b[0m\u001b[0mbatch\u001b[0m\u001b[0;34m)\u001b[0m\u001b[0;34m\u001b[0m\u001b[0;34m\u001b[0m\u001b[0m\n\u001b[1;32m     17\u001b[0m \u001b[0;34m\u001b[0m\u001b[0m\n",
            "\u001b[0;32m/usr/local/lib/python3.11/dist-packages/torch_geometric/nn/pool/glob.py\u001b[0m in \u001b[0;36mglobal_mean_pool\u001b[0;34m(x, batch, size)\u001b[0m\n\u001b[1;32m     61\u001b[0m     \u001b[0;32mif\u001b[0m \u001b[0mbatch\u001b[0m \u001b[0;32mis\u001b[0m \u001b[0;32mNone\u001b[0m\u001b[0;34m:\u001b[0m\u001b[0;34m\u001b[0m\u001b[0;34m\u001b[0m\u001b[0m\n\u001b[1;32m     62\u001b[0m         \u001b[0;32mreturn\u001b[0m \u001b[0mx\u001b[0m\u001b[0;34m.\u001b[0m\u001b[0mmean\u001b[0m\u001b[0;34m(\u001b[0m\u001b[0mdim\u001b[0m\u001b[0;34m=\u001b[0m\u001b[0mdim\u001b[0m\u001b[0;34m,\u001b[0m \u001b[0mkeepdim\u001b[0m\u001b[0;34m=\u001b[0m\u001b[0mx\u001b[0m\u001b[0;34m.\u001b[0m\u001b[0mdim\u001b[0m\u001b[0;34m(\u001b[0m\u001b[0;34m)\u001b[0m \u001b[0;34m<=\u001b[0m \u001b[0;36m2\u001b[0m\u001b[0;34m)\u001b[0m\u001b[0;34m\u001b[0m\u001b[0;34m\u001b[0m\u001b[0m\n\u001b[0;32m---> 63\u001b[0;31m     \u001b[0;32mreturn\u001b[0m \u001b[0mscatter\u001b[0m\u001b[0;34m(\u001b[0m\u001b[0mx\u001b[0m\u001b[0;34m,\u001b[0m \u001b[0mbatch\u001b[0m\u001b[0;34m,\u001b[0m \u001b[0mdim\u001b[0m\u001b[0;34m=\u001b[0m\u001b[0mdim\u001b[0m\u001b[0;34m,\u001b[0m \u001b[0mdim_size\u001b[0m\u001b[0;34m=\u001b[0m\u001b[0msize\u001b[0m\u001b[0;34m,\u001b[0m \u001b[0mreduce\u001b[0m\u001b[0;34m=\u001b[0m\u001b[0;34m'mean'\u001b[0m\u001b[0;34m)\u001b[0m\u001b[0;34m\u001b[0m\u001b[0;34m\u001b[0m\u001b[0m\n\u001b[0m\u001b[1;32m     64\u001b[0m \u001b[0;34m\u001b[0m\u001b[0m\n\u001b[1;32m     65\u001b[0m \u001b[0;34m\u001b[0m\u001b[0m\n",
            "\u001b[0;32m/usr/local/lib/python3.11/dist-packages/torch_geometric/utils/_scatter.py\u001b[0m in \u001b[0;36mscatter\u001b[0;34m(src, index, dim, dim_size, reduce)\u001b[0m\n\u001b[1;32m     77\u001b[0m         \u001b[0;32mif\u001b[0m \u001b[0mreduce\u001b[0m \u001b[0;34m==\u001b[0m \u001b[0;34m'mean'\u001b[0m\u001b[0;34m:\u001b[0m\u001b[0;34m\u001b[0m\u001b[0;34m\u001b[0m\u001b[0m\n\u001b[1;32m     78\u001b[0m             \u001b[0mcount\u001b[0m \u001b[0;34m=\u001b[0m \u001b[0msrc\u001b[0m\u001b[0;34m.\u001b[0m\u001b[0mnew_zeros\u001b[0m\u001b[0;34m(\u001b[0m\u001b[0mdim_size\u001b[0m\u001b[0;34m)\u001b[0m\u001b[0;34m\u001b[0m\u001b[0;34m\u001b[0m\u001b[0m\n\u001b[0;32m---> 79\u001b[0;31m             \u001b[0mcount\u001b[0m\u001b[0;34m.\u001b[0m\u001b[0mscatter_add_\u001b[0m\u001b[0;34m(\u001b[0m\u001b[0;36m0\u001b[0m\u001b[0;34m,\u001b[0m \u001b[0mindex\u001b[0m\u001b[0;34m,\u001b[0m \u001b[0msrc\u001b[0m\u001b[0;34m.\u001b[0m\u001b[0mnew_ones\u001b[0m\u001b[0;34m(\u001b[0m\u001b[0msrc\u001b[0m\u001b[0;34m.\u001b[0m\u001b[0msize\u001b[0m\u001b[0;34m(\u001b[0m\u001b[0mdim\u001b[0m\u001b[0;34m)\u001b[0m\u001b[0;34m)\u001b[0m\u001b[0;34m)\u001b[0m\u001b[0;34m\u001b[0m\u001b[0;34m\u001b[0m\u001b[0m\n\u001b[0m\u001b[1;32m     80\u001b[0m             \u001b[0mcount\u001b[0m \u001b[0;34m=\u001b[0m \u001b[0mcount\u001b[0m\u001b[0;34m.\u001b[0m\u001b[0mclamp\u001b[0m\u001b[0;34m(\u001b[0m\u001b[0mmin\u001b[0m\u001b[0;34m=\u001b[0m\u001b[0;36m1\u001b[0m\u001b[0;34m)\u001b[0m\u001b[0;34m\u001b[0m\u001b[0;34m\u001b[0m\u001b[0m\n\u001b[1;32m     81\u001b[0m \u001b[0;34m\u001b[0m\u001b[0m\n",
            "\u001b[0;31mRuntimeError\u001b[0m: Expected index [999] to be smaller than self [32] apart from dimension 0 and to be smaller size than src [819]"
          ]
        }
      ]
    },
    {
      "cell_type": "code",
      "source": [],
      "metadata": {
        "id": "n7bjZcuKSb0y"
      },
      "execution_count": null,
      "outputs": []
    }
  ]
}