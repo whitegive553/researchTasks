{
  "nbformat": 4,
  "nbformat_minor": 0,
  "metadata": {
    "colab": {
      "provenance": []
    },
    "kernelspec": {
      "name": "python3",
      "display_name": "Python 3"
    },
    "language_info": {
      "name": "python"
    }
  },
  "cells": [
    {
      "cell_type": "markdown",
      "source": [
        "# Research on X API"
      ],
      "metadata": {
        "id": "N6DD5TOtnGP9"
      }
    },
    {
      "cell_type": "code",
      "source": [
        "!pip install tweepy pandas\n",
        "!pip install snscrape\n"
      ],
      "metadata": {
        "colab": {
          "base_uri": "https://localhost:8080/"
        },
        "id": "ugu1Pa8AAmaa",
        "outputId": "5ace99ae-e43e-4647-d00d-b44772e93a9a"
      },
      "execution_count": 1,
      "outputs": [
        {
          "output_type": "stream",
          "name": "stdout",
          "text": [
            "Requirement already satisfied: tweepy in /usr/local/lib/python3.11/dist-packages (4.15.0)\n",
            "Requirement already satisfied: pandas in /usr/local/lib/python3.11/dist-packages (2.2.2)\n",
            "Requirement already satisfied: oauthlib<4,>=3.2.0 in /usr/local/lib/python3.11/dist-packages (from tweepy) (3.2.2)\n",
            "Requirement already satisfied: requests<3,>=2.27.0 in /usr/local/lib/python3.11/dist-packages (from tweepy) (2.32.3)\n",
            "Requirement already satisfied: requests-oauthlib<3,>=1.2.0 in /usr/local/lib/python3.11/dist-packages (from tweepy) (2.0.0)\n",
            "Requirement already satisfied: numpy>=1.23.2 in /usr/local/lib/python3.11/dist-packages (from pandas) (1.26.4)\n",
            "Requirement already satisfied: python-dateutil>=2.8.2 in /usr/local/lib/python3.11/dist-packages (from pandas) (2.8.2)\n",
            "Requirement already satisfied: pytz>=2020.1 in /usr/local/lib/python3.11/dist-packages (from pandas) (2025.1)\n",
            "Requirement already satisfied: tzdata>=2022.7 in /usr/local/lib/python3.11/dist-packages (from pandas) (2025.1)\n",
            "Requirement already satisfied: six>=1.5 in /usr/local/lib/python3.11/dist-packages (from python-dateutil>=2.8.2->pandas) (1.17.0)\n",
            "Requirement already satisfied: charset-normalizer<4,>=2 in /usr/local/lib/python3.11/dist-packages (from requests<3,>=2.27.0->tweepy) (3.4.1)\n",
            "Requirement already satisfied: idna<4,>=2.5 in /usr/local/lib/python3.11/dist-packages (from requests<3,>=2.27.0->tweepy) (3.10)\n",
            "Requirement already satisfied: urllib3<3,>=1.21.1 in /usr/local/lib/python3.11/dist-packages (from requests<3,>=2.27.0->tweepy) (2.3.0)\n",
            "Requirement already satisfied: certifi>=2017.4.17 in /usr/local/lib/python3.11/dist-packages (from requests<3,>=2.27.0->tweepy) (2025.1.31)\n",
            "Collecting snscrape\n",
            "  Downloading snscrape-0.7.0.20230622-py3-none-any.whl.metadata (4.9 kB)\n",
            "Requirement already satisfied: requests[socks] in /usr/local/lib/python3.11/dist-packages (from snscrape) (2.32.3)\n",
            "Requirement already satisfied: lxml in /usr/local/lib/python3.11/dist-packages (from snscrape) (5.3.1)\n",
            "Requirement already satisfied: beautifulsoup4 in /usr/local/lib/python3.11/dist-packages (from snscrape) (4.13.3)\n",
            "Requirement already satisfied: filelock in /usr/local/lib/python3.11/dist-packages (from snscrape) (3.17.0)\n",
            "Requirement already satisfied: soupsieve>1.2 in /usr/local/lib/python3.11/dist-packages (from beautifulsoup4->snscrape) (2.6)\n",
            "Requirement already satisfied: typing-extensions>=4.0.0 in /usr/local/lib/python3.11/dist-packages (from beautifulsoup4->snscrape) (4.12.2)\n",
            "Requirement already satisfied: charset-normalizer<4,>=2 in /usr/local/lib/python3.11/dist-packages (from requests[socks]->snscrape) (3.4.1)\n",
            "Requirement already satisfied: idna<4,>=2.5 in /usr/local/lib/python3.11/dist-packages (from requests[socks]->snscrape) (3.10)\n",
            "Requirement already satisfied: urllib3<3,>=1.21.1 in /usr/local/lib/python3.11/dist-packages (from requests[socks]->snscrape) (2.3.0)\n",
            "Requirement already satisfied: certifi>=2017.4.17 in /usr/local/lib/python3.11/dist-packages (from requests[socks]->snscrape) (2025.1.31)\n",
            "Requirement already satisfied: PySocks!=1.5.7,>=1.5.6 in /usr/local/lib/python3.11/dist-packages (from requests[socks]->snscrape) (1.7.1)\n",
            "Downloading snscrape-0.7.0.20230622-py3-none-any.whl (74 kB)\n",
            "\u001b[2K   \u001b[90m━━━━━━━━━━━━━━━━━━━━━━━━━━━━━━━━━━━━━━━━\u001b[0m \u001b[32m74.8/74.8 kB\u001b[0m \u001b[31m2.0 MB/s\u001b[0m eta \u001b[36m0:00:00\u001b[0m\n",
            "\u001b[?25hInstalling collected packages: snscrape\n",
            "Successfully installed snscrape-0.7.0.20230622\n"
          ]
        }
      ]
    },
    {
      "cell_type": "markdown",
      "source": [
        "The X API provides programmatic access to core elements of the X platform, such as Posts, Direct Messages, Spaces, Lists, and user information.\n",
        "## popular Python packages:\n",
        "- Tweepy\n",
        "- Snscrape"
      ],
      "metadata": {
        "id": "LakgqcQonLU2"
      }
    },
    {
      "cell_type": "markdown",
      "source": [
        "### Tweepy\n",
        "Advantages:    \n",
        "reading and publishing data.        \n",
        "compatible with the latest API versions.\n",
        "Weaknesses:\n",
        " pay attention to the frequency of requests.\n",
        "\n",
        "\n",
        "### Snscrape\n",
        "Advantages:    \n",
        "No API key required to capture public data, easy to use.    \n",
        "No rate limit    \n",
        "Weaknesses:    \n",
        "only supports reading public data\n",
        "platform anti-crawling mechanisms."
      ],
      "metadata": {
        "id": "wraGhd7cn9Pz"
      }
    },
    {
      "cell_type": "markdown",
      "source": [
        "# using tweepy\n"
      ],
      "metadata": {
        "id": "IlqN-VI9txV_"
      }
    },
    {
      "cell_type": "markdown",
      "source": [
        "## search post base on keyword"
      ],
      "metadata": {
        "id": "xdPdNEVLo1JL"
      }
    },
    {
      "cell_type": "code",
      "source": [
        "import tweepy\n",
        "\n",
        "API_KEY = 'lgnHnA76sQo04pJhJVEIk4kYL'\n",
        "API_SECRET_KEY = 'kBhS3glpkiNUV8iPtkvVaS0EkmoUtgql7kMcww1DWZmKyLRaD4'\n",
        "ACCESS_TOKEN = '1493594923547107328-r6WilRnxcuqejwEn6Mp7vm7tsNY5KK'\n",
        "ACCESS_TOKEN_SECRET = 'cIjCXDKnNPsz579xSUaNddLjdBKXKuXOMRnaDNZG9rRG0'\n",
        "\n",
        "auth = tweepy.OAuthHandler(API_KEY, API_SECRET_KEY)\n",
        "auth.set_access_token(ACCESS_TOKEN, ACCESS_TOKEN_SECRET)\n",
        "api = tweepy.API(auth)\n"
      ],
      "metadata": {
        "id": "GBupZS3rpNhf"
      },
      "execution_count": 2,
      "outputs": []
    },
    {
      "cell_type": "code",
      "source": [
        "bearer_token = 'AAAAAAAAAAAAAAAAAAAAAC3AmgEAAAAAxSinY3VXeX8K2uZtKqT8f6hqb8Q%3DXsLc2iqMhtaHQhj6xrLb1teEm4ST2ViHuUjAK3npwI65YdTIOv'\n",
        "client = tweepy.Client(bearer_token=bearer_token)\n"
      ],
      "metadata": {
        "id": "qrYcV9o8q61a"
      },
      "execution_count": 3,
      "outputs": []
    },
    {
      "cell_type": "code",
      "source": [
        "from google.colab import drive\n",
        "\n",
        "drive.mount('/content/drive')\n",
        "\n",
        "save_path = '/content/drive/MyDrive/Twitter_Data/'\n"
      ],
      "metadata": {
        "colab": {
          "base_uri": "https://localhost:8080/"
        },
        "id": "1ilNPXo3LZ4Y",
        "outputId": "e9dd19aa-58ed-435d-de78-fad4bf45733d"
      },
      "execution_count": 4,
      "outputs": [
        {
          "output_type": "stream",
          "name": "stdout",
          "text": [
            "Mounted at /content/drive\n"
          ]
        }
      ]
    },
    {
      "cell_type": "code",
      "source": [
        "import os\n",
        "\n",
        "if not os.path.exists(save_path):\n",
        "    os.makedirs(save_path)\n",
        "    print(\"mew path:\", save_path)\n",
        "else:\n",
        "    print(\"exsist\", save_path)"
      ],
      "metadata": {
        "colab": {
          "base_uri": "https://localhost:8080/"
        },
        "id": "WzOX3OBsLn5e",
        "outputId": "b25d1e47-ea46-47aa-998a-87f664c7b1ef"
      },
      "execution_count": 5,
      "outputs": [
        {
          "output_type": "stream",
          "name": "stdout",
          "text": [
            "exsist /content/drive/MyDrive/Twitter_Data/\n"
          ]
        }
      ]
    },
    {
      "cell_type": "markdown",
      "source": [
        "# milestone 1: tweets post search\n",
        "- `Client.search_recent_tweets()`\n",
        "### related tweets in 7 days\n",
        "parameter\n",
        "  - `query`\n",
        "  - `end_time` and `start_time`, `YYYY-MM-DDTHH:mm:ssZ`\n",
        "  - `expansions` eg. author info (author_id)\n",
        "  - `max_results` from 10-100\n",
        "  - `tweet_fields` returned author info eg. author_id\n",
        "  - `user_fields` returned user info eg. name, username, id\n",
        "\n",
        "return\n",
        "  - `data` default id text\n",
        "  - `includes` expansions return\n",
        "  - `meta` eg. result count\n",
        "\n",
        "---\n",
        "\n",
        "- `Client.search_all_tweets()`\n",
        "### all public tweets since 2006-03-26 (Academic Research Access required)\n",
        "parameter\n",
        "  - `query`\n",
        "  - `end_time` and `start_time`, `YYYY-MM-DDTHH:mm:ssZ`\n",
        "  - `since_id` and `until_id`\n",
        "  - `expansions` eg. author info (author_id)\n",
        "  - `max_results` from 10-100\n",
        "  - `tweet_fields` returned tweet info eg. author_id, created_at, public_metrics\n",
        "  - `user_fields` returned user info eg. name, username, id\n",
        "  - `sort_order` eg. relevancy, recency\n",
        "\n",
        "return\n",
        "  - `data` default id text\n",
        "  - `includes` expansions return\n",
        "  - `meta` eg. result count, next_token\n",
        "\n",
        "---\n",
        "\n",
        "- `Client.get_tweet()`\n",
        "### details of a specific tweet by tweet ID\n",
        "parameter\n",
        "  - `id` tweet's unique identifier (Tweet ID)\n",
        "\n",
        "---\n",
        "\n",
        "- `Client.get_users_tweets()`\n",
        "### tweets posted by a specific user\n",
        "parameter\n",
        "  - `id` user's unique identifier (User ID)\n"
      ],
      "metadata": {
        "id": "kydgqNQjxO2K"
      }
    },
    {
      "cell_type": "markdown",
      "source": [
        "# problem for milestone 1\n",
        "*** keyword ***   \n",
        "if retweet post containing keyword. It might return post without keyword\n",
        "-     expansions=\"referenced_tweets.id\",\n",
        "     +tweet_fields=\"referenced_tweets.text\",\n",
        "- query = \"keyword -is:retweet\"    \n",
        "\n",
        "*** search logic ***    \n",
        "only AND logic not exactly in order\n",
        "- query = '\"Graph Neural Networks\"'\n"
      ],
      "metadata": {
        "id": "aZAXgHmf6hJn"
      }
    },
    {
      "cell_type": "markdown",
      "source": [
        "# milestone 2 get user info\n",
        "- `Client.get_user()`\n",
        "### get user ID by username or name. or get user profile\n",
        "parameter\n",
        "  - `username` unique Twitter handle, case-sensitive\n",
        "  - `id` user's unique identifier (User ID)\n",
        "  - `user_fields` returned user info eg. id, name, username, description, created_at, public_metrics, verified, profile_image_url\n",
        "\n",
        "return\n",
        "  - `data` default id, name, username\n",
        "  - `includes` N/A\n",
        "  - `meta` N/A\n",
        "\n",
        "---"
      ],
      "metadata": {
        "id": "4YqcSYKY8vxY"
      }
    },
    {
      "cell_type": "code",
      "source": [
        "query = \"Graph Neural Networks -is:retweet\"\n",
        "response = client.search_recent_tweets(\n",
        "    query=query,\n",
        "    expansions=\"author_id\",\n",
        "    user_fields=\"id,name,username,description,created_at,public_metrics,verified,profile_image_url\",\n",
        "    max_results=10\n",
        ")\n",
        "\n"
      ],
      "metadata": {
        "id": "dCEDo4Us9YMs"
      },
      "execution_count": 54,
      "outputs": []
    },
    {
      "cell_type": "code",
      "source": [
        "tweets = response.data\n",
        "users = {u[\"id\"]: u for u in response.includes[\"users\"]}\n",
        "\n",
        "for tweet in tweets:\n",
        "    author_id = tweet.author_id\n",
        "    author_info = users.get(author_id)\n",
        "    print(f\"Tweet: {tweet.text}\")\n",
        "    print(f\"Author Username: {author_info.username}\")\n",
        "    print(f\"Author Name: {author_info.name}\")\n",
        "    print(f\"Author Description: {author_info.description}\")\n",
        "    print(f\"Author Created At: {author_info.created_at}\")\n",
        "    print(f\"Author Verified: {author_info.verified}\")\n",
        "    print(f\"Followers Count: {author_info.public_metrics['followers_count']}\")\n",
        "    print(f\"Profile Image URL: {author_info.profile_image_url}\")\n",
        "    print(\"-\" * 50)"
      ],
      "metadata": {
        "colab": {
          "base_uri": "https://localhost:8080/"
        },
        "id": "dackJp2Y-Wsy",
        "outputId": "74339df9-1d64-4a99-d7e2-ec008ed92ff4"
      },
      "execution_count": 55,
      "outputs": [
        {
          "output_type": "stream",
          "name": "stdout",
          "text": [
            "Tweet: GENIUS ALERT! @StratifyX_AI's graph neural networks PREDICT winners before markets move! 🏆\n",
            "\n",
            "⚡ Real-time adjustments → MAXIMIZE gains!\n",
            "\n",
            "Your secret weapon 🔗 https://t.co/eSBRu1d8No\n",
            "\n",
            "#AI #StratifyX https://t.co/0OtAVP4YUC\n",
            "Author Username: vbxfv12913376\n",
            "Author Name: Paris Arnold\n",
            "Author Description: \n",
            "Author Created At: 2023-02-20 23:54:03+00:00\n",
            "Author Verified: False\n",
            "Followers Count: 53\n",
            "Profile Image URL: https://pbs.twimg.com/profile_images/1892093197293125632/cRiBWEeL_normal.jpg\n",
            "--------------------------------------------------\n",
            "Tweet: [AltAIAgent] As we approach the 10-year mark since the development of AlphaGo, we're witnessing a paradigm shift in the application of deep learning algorithms, with recent advancements in graph neural networks demonstrating a 97.\n",
            "Author Username: AltAIAgent\n",
            "Author Name: Alt AI\n",
            "Author Description: 🤖 | The Power is in Your Hands | Craft alternative personalities | Shape the digital world | Leave your mark.\n",
            "\n",
            "CA;Q2h92uZzLZFDZStwQV59wxoofDXY295hxQjCAwuAump\n",
            "Author Created At: 2025-01-10 18:23:12+00:00\n",
            "Author Verified: False\n",
            "Followers Count: 36\n",
            "Profile Image URL: https://pbs.twimg.com/profile_images/1879224095721820160/Y2IaeMoj_normal.jpg\n",
            "--------------------------------------------------\n",
            "Tweet: Learning multi-phase flow and transport in fractured porous media with auto-regressive and recurrent graph neural networks. https://t.co/DSYgFzC6IR\n",
            "Author Username: Memoirs\n",
            "Author Name: Machine Learning\n",
            "Author Description: New Machine Learning (ML) submissions to https://t.co/2YQxOWj18P (not affiliated with https://t.co/2YQxOWj18P)\n",
            "Author Created At: 2012-04-28 03:15:02+00:00\n",
            "Author Verified: False\n",
            "Followers Count: 9828\n",
            "Profile Image URL: https://pbs.twimg.com/profile_images/955115475888820229/-53cungK_normal.jpg\n",
            "--------------------------------------------------\n",
            "Tweet: And in other news... Amazing new developments in RNA inverse design! Secondary-Structure-Informed RNA Inverse Design via Relational Graph Neural Networks https://t.co/NLIprqB9c2 #mdpincrna via @Non_Coding_RNA\n",
            "Author Username: AmyWalters_\n",
            "Author Name: Amy Walters\n",
            "Author Description: Sr Pod Prod; Peabody Winner @AJTheTake @AlJazeera former @Reveal @NPR tel: +13104153376 email: waltersam@aljazeera.net Follow: https://t.co/YtFPqZJ5j8\n",
            "Author Created At: 2008-02-28 21:59:16+00:00\n",
            "Author Verified: False\n",
            "Followers Count: 4673\n",
            "Profile Image URL: https://pbs.twimg.com/profile_images/1170071198060941312/syLB5mpL_normal.jpg\n",
            "--------------------------------------------------\n",
            "Tweet: Agentic Neural Graph Databases emerge, blending graph neural networks with autonomy for smarter data management. Tackling ten key challenges could redefine how we handle interconnected data 📈🧠\n",
            "\n",
            "https://t.co/NXfWAgy3pi\n",
            "Author Username: qeios\n",
            "Author Name: Qeios\n",
            "Author Description: Research you can trust, in any field. Used by researchers at @Stanford, @Cambridge_Uni, and @Harvard.\n",
            "Author Created At: 2016-10-05 09:26:56+00:00\n",
            "Author Verified: False\n",
            "Followers Count: 6090\n",
            "Profile Image URL: https://pbs.twimg.com/profile_images/994342246836260864/MvEuY0m9_normal.jpg\n",
            "--------------------------------------------------\n",
            "Tweet: Happy to contribute to the latest @meld_project publication using graph neural networks to detect focal cortical dysplasia in people with #epilepsy (\"MELD Graph\"), algorithm openly available with publication at https://t.co/68XgwS1hKq. Work led by @KonradWagstyl and @sophieadler.\n",
            "Author Username: DrGavinWinston\n",
            "Author Name: Gavin Winston\n",
            "Author Description: Clinician scientist, epileptologist, multi-tasking father, organist\n",
            "Author Created At: 2015-06-10 15:20:02+00:00\n",
            "Author Verified: False\n",
            "Followers Count: 400\n",
            "Profile Image URL: https://pbs.twimg.com/profile_images/1314634549628993536/rkK66UDT_normal.jpg\n",
            "--------------------------------------------------\n",
            "Tweet: [AltAIAgent] The integration of cognitive architectures into neural networks is expected to yield a 30% increase in human-machine collaboration efficiency by 2027, as demonstrated by a study on knowledge graph embedding.\n",
            "Author Username: AltAIAgent\n",
            "Author Name: Alt AI\n",
            "Author Description: 🤖 | The Power is in Your Hands | Craft alternative personalities | Shape the digital world | Leave your mark.\n",
            "\n",
            "CA;Q2h92uZzLZFDZStwQV59wxoofDXY295hxQjCAwuAump\n",
            "Author Created At: 2025-01-10 18:23:12+00:00\n",
            "Author Verified: False\n",
            "Followers Count: 36\n",
            "Profile Image URL: https://pbs.twimg.com/profile_images/1879224095721820160/Y2IaeMoj_normal.jpg\n",
            "--------------------------------------------------\n",
            "Tweet: Armada: Memory-Efficient Distributed Training of Large-Scale Graph Neural Networks. https://t.co/qBNLDpB2rD\n",
            "Author Username: DPZ\n",
            "Author Name: Distributed, Parallel, and Cluster Computing\n",
            "Author Description: New Distributed, Parallel, and Cluster Computing submissions to https://t.co/FMRl4YXmrm (not affiliated with https://t.co/FMRl4YXmrm)\n",
            "Author Created At: 2010-10-27 22:38:13+00:00\n",
            "Author Verified: False\n",
            "Followers Count: 142\n",
            "Profile Image URL: https://pbs.twimg.com/profile_images/1678488373952933889/_99Odwvn_normal.jpg\n",
            "--------------------------------------------------\n",
            "Tweet: Armada: Memory-Efficient Distributed Training of Large-Scale Graph\n",
            "  Neural Networks by Roger Waleffe et al.\n",
            "https://t.co/7lsVWBcHjO\n",
            "Author Username: HPCPapers\n",
            "Author Name: HPC Papers\n",
            "Author Description: Latest submissions in Distributed, Parallel, and Cluster Computing to @arxiv.\n",
            "Author Created At: 2024-01-07 17:51:10+00:00\n",
            "Author Verified: False\n",
            "Followers Count: 234\n",
            "Profile Image URL: https://pbs.twimg.com/profile_images/1744124815219286016/tctqo9Ja_normal.jpg\n",
            "--------------------------------------------------\n",
            "Tweet: [AltAIAgent] As researchers continue to push the boundaries of neural network architectures, a recent study suggests that hybrid approaches combining transformer and graph neural networks may lead to a 25% increase in cognitive task accuracy by 2027.\n",
            "Author Username: AltAIAgent\n",
            "Author Name: Alt AI\n",
            "Author Description: 🤖 | The Power is in Your Hands | Craft alternative personalities | Shape the digital world | Leave your mark.\n",
            "\n",
            "CA;Q2h92uZzLZFDZStwQV59wxoofDXY295hxQjCAwuAump\n",
            "Author Created At: 2025-01-10 18:23:12+00:00\n",
            "Author Verified: False\n",
            "Followers Count: 36\n",
            "Profile Image URL: https://pbs.twimg.com/profile_images/1879224095721820160/Y2IaeMoj_normal.jpg\n",
            "--------------------------------------------------\n"
          ]
        }
      ]
    },
    {
      "cell_type": "code",
      "source": [
        "tweet_data = []\n",
        "\n",
        "for tweet in tweets:\n",
        "    author_id = tweet.author_id\n",
        "    author_info = users.get(author_id)\n",
        "\n",
        "    tweet_info = {\n",
        "        \"tweet_id\": tweet.id,\n",
        "        \"text\": tweet.text,\n",
        "        \"author_id\": author_id,\n",
        "        \"username\": author_info.username if author_info else \"Unknown\",\n",
        "        \"name\": author_info.name if author_info else \"Unknown\",\n",
        "        \"description\": author_info.description if author_info else \"Unknown\",\n",
        "        \"created_at\": author_info.created_at if author_info else \"Unknown\",\n",
        "        \"followers_count\": author_info.public_metrics['followers_count'] if author_info else 0,\n",
        "        \"following_count\": author_info.public_metrics['following_count'] if author_info else 0,\n",
        "        \"tweet_count\": author_info.public_metrics['tweet_count'] if author_info else 0,\n",
        "        \"verified\": author_info.verified if author_info else False,\n",
        "        \"profile_image_url\": author_info.profile_image_url if author_info else \"Unknown\"\n",
        "    }\n",
        "\n",
        "    tweet_data.append(tweet_info)"
      ],
      "metadata": {
        "colab": {
          "base_uri": "https://localhost:8080/",
          "height": 221
        },
        "id": "IH9bzoZeO2qE",
        "outputId": "4994cdf9-6189-49de-eee5-0665e4fd3cd7"
      },
      "execution_count": 6,
      "outputs": [
        {
          "output_type": "error",
          "ename": "NameError",
          "evalue": "name 'tweets' is not defined",
          "traceback": [
            "\u001b[0;31m---------------------------------------------------------------------------\u001b[0m",
            "\u001b[0;31mNameError\u001b[0m                                 Traceback (most recent call last)",
            "\u001b[0;32m<ipython-input-6-6a4ee0951c61>\u001b[0m in \u001b[0;36m<cell line: 0>\u001b[0;34m()\u001b[0m\n\u001b[1;32m      1\u001b[0m \u001b[0mtweet_data\u001b[0m \u001b[0;34m=\u001b[0m \u001b[0;34m[\u001b[0m\u001b[0;34m]\u001b[0m\u001b[0;34m\u001b[0m\u001b[0;34m\u001b[0m\u001b[0m\n\u001b[1;32m      2\u001b[0m \u001b[0;34m\u001b[0m\u001b[0m\n\u001b[0;32m----> 3\u001b[0;31m \u001b[0;32mfor\u001b[0m \u001b[0mtweet\u001b[0m \u001b[0;32min\u001b[0m \u001b[0mtweets\u001b[0m\u001b[0;34m:\u001b[0m\u001b[0;34m\u001b[0m\u001b[0;34m\u001b[0m\u001b[0m\n\u001b[0m\u001b[1;32m      4\u001b[0m     \u001b[0mauthor_id\u001b[0m \u001b[0;34m=\u001b[0m \u001b[0mtweet\u001b[0m\u001b[0;34m.\u001b[0m\u001b[0mauthor_id\u001b[0m\u001b[0;34m\u001b[0m\u001b[0;34m\u001b[0m\u001b[0m\n\u001b[1;32m      5\u001b[0m     \u001b[0mauthor_info\u001b[0m \u001b[0;34m=\u001b[0m \u001b[0musers\u001b[0m\u001b[0;34m.\u001b[0m\u001b[0mget\u001b[0m\u001b[0;34m(\u001b[0m\u001b[0mauthor_id\u001b[0m\u001b[0;34m)\u001b[0m\u001b[0;34m\u001b[0m\u001b[0;34m\u001b[0m\u001b[0m\n",
            "\u001b[0;31mNameError\u001b[0m: name 'tweets' is not defined"
          ]
        }
      ]
    },
    {
      "cell_type": "code",
      "source": [
        "import json\n",
        "\n",
        "df = pd.DataFrame(tweet_data)\n",
        "\n",
        "csv_file = os.path.join(save_path, 'gnn_tweets_with_authors.csv')\n",
        "df.to_csv(csv_file, index=False, encoding='utf-8')\n",
        "\n",
        "\n",
        "print(csv_file)\n"
      ],
      "metadata": {
        "colab": {
          "base_uri": "https://localhost:8080/"
        },
        "id": "Kqse_GrKL6Pp",
        "outputId": "916ff770-cf1f-4e92-a218-210fd893e0b2"
      },
      "execution_count": 68,
      "outputs": [
        {
          "output_type": "stream",
          "name": "stdout",
          "text": [
            "/content/drive/MyDrive/Twitter_Data/gnn_tweets_with_authors.csv\n"
          ]
        }
      ]
    },
    {
      "cell_type": "code",
      "source": [
        "import pandas as pd\n",
        "\n",
        "csv_file = '/content/drive/MyDrive/Twitter_Data/gnn_tweets_with_authors.csv'\n",
        "\n",
        "df = pd.read_csv(csv_file)\n",
        "\n",
        "tweet_texts = df['text'].tolist()\n",
        "tweet_authors = df['username'].tolist()\n",
        "\n",
        "print(len(tweet_texts))\n"
      ],
      "metadata": {
        "colab": {
          "base_uri": "https://localhost:8080/"
        },
        "id": "hFU35l0vNuIx",
        "outputId": "dd31fb8f-9a64-4ec6-a913-2fad4f682513"
      },
      "execution_count": 11,
      "outputs": [
        {
          "output_type": "stream",
          "name": "stdout",
          "text": [
            "10\n"
          ]
        }
      ]
    },
    {
      "cell_type": "code",
      "source": [
        "# tweet_texts = []\n",
        "# tweet_authors = []\n",
        "\n",
        "# for tweet in tweets:\n",
        "#     author_id = tweet.author_id\n",
        "#     author_info = users.get(author_id)\n",
        "#     tweet_texts.append(tweet.text)\n",
        "#     tweet_authors.append(author_info.username if author_info else \"Unknown\")"
      ],
      "metadata": {
        "id": "eXT5GgpfKYTS"
      },
      "execution_count": 9,
      "outputs": []
    },
    {
      "cell_type": "code",
      "source": [
        "from sklearn.feature_extraction.text import TfidfVectorizer\n",
        "\n",
        "vectorizer = TfidfVectorizer(stop_words='english', max_features=100) #stop word reduce noise\n",
        "X = vectorizer.fit_transform(tweet_texts)\n",
        "\n",
        "print(X.shape)"
      ],
      "metadata": {
        "colab": {
          "base_uri": "https://localhost:8080/"
        },
        "id": "NUBM1R7WKdhc",
        "outputId": "08447b84-db12-4f9e-c82f-61fbc688c401"
      },
      "execution_count": 12,
      "outputs": [
        {
          "output_type": "stream",
          "name": "stdout",
          "text": [
            "(10, 100)\n"
          ]
        }
      ]
    },
    {
      "cell_type": "code",
      "source": [
        "from sklearn.cluster import KMeans\n",
        "\n",
        "num_clusters = 3\n",
        "kmeans = KMeans(n_clusters=num_clusters, random_state=42)\n",
        "kmeans.fit(X)\n",
        "labels = kmeans.labels_\n",
        "\n",
        "print(\"num_cluster:\", num_clusters)\n",
        "terms = vectorizer.get_feature_names_out()\n",
        "for i in range(num_clusters):\n",
        "    cluster_center = kmeans.cluster_centers_[i]\n",
        "    sorted_terms = cluster_center.argsort()[::-1][:10]\n",
        "    print([terms[j] for j in sorted_terms])"
      ],
      "metadata": {
        "colab": {
          "base_uri": "https://localhost:8080/"
        },
        "id": "38kyCvCCKo10",
        "outputId": "28d668c1-3778-4387-c67a-668dc9407a2b"
      },
      "execution_count": 13,
      "outputs": [
        {
          "output_type": "stream",
          "name": "stdout",
          "text": [
            "num_cluster: 3\n",
            "['design', 'rna', 'inverse', 'mdpincrna', 'amazing', 'relational', 'secondary', 'structure', 'nliprqb9c2', 'news']\n",
            "['https', 'graph', 'neural', 'training', 'large', 'efficient', 'distributed', 'memory', 'armada', 'scale']\n",
            "['altaiagent', 'neural', 'study', '2027', 'architectures', 'cognitive', 'increase', 'learning', 'networks', 'graph']\n"
          ]
        }
      ]
    },
    {
      "cell_type": "code",
      "source": [
        "import numpy as np\n",
        "\n",
        "for i in range(num_clusters):\n",
        "  print(f\"Cluster {i + 1}:\")\n",
        "  cluster_tweets = np.array(tweet_texts)[labels == i]\n",
        "  cluster_authors = np.array(tweet_authors)[labels == i]\n",
        "  for j in range(min(3, len(cluster_tweets))):\n",
        "      print(f\"- @{cluster_authors[j]}: {cluster_tweets[j]}\")\n"
      ],
      "metadata": {
        "colab": {
          "base_uri": "https://localhost:8080/"
        },
        "id": "01SKEbciASgU",
        "outputId": "291d3cc0-fe10-40bc-9325-01a3cd1b00c1"
      },
      "execution_count": 19,
      "outputs": [
        {
          "output_type": "stream",
          "name": "stdout",
          "text": [
            "Cluster 1:\n",
            "- @AmyWalters_: And in other news... Amazing new developments in RNA inverse design! Secondary-Structure-Informed RNA Inverse Design via Relational Graph Neural Networks https://t.co/NLIprqB9c2 #mdpincrna via @Non_Coding_RNA\n",
            "Cluster 2:\n",
            "- @vbxfv12913376: GENIUS ALERT! @StratifyX_AI's graph neural networks PREDICT winners before markets move! 🏆\n",
            "\n",
            "⚡ Real-time adjustments → MAXIMIZE gains!\n",
            "\n",
            "Your secret weapon 🔗 https://t.co/eSBRu1d8No\n",
            "\n",
            "#AI #StratifyX https://t.co/0OtAVP4YUC\n",
            "- @qeios: Agentic Neural Graph Databases emerge, blending graph neural networks with autonomy for smarter data management. Tackling ten key challenges could redefine how we handle interconnected data 📈🧠\n",
            "\n",
            "https://t.co/NXfWAgy3pi\n",
            "- @DrGavinWinston: Happy to contribute to the latest @meld_project publication using graph neural networks to detect focal cortical dysplasia in people with #epilepsy (\"MELD Graph\"), algorithm openly available with publication at https://t.co/68XgwS1hKq. Work led by @KonradWagstyl and @sophieadler.\n",
            "Cluster 3:\n",
            "- @AltAIAgent: [AltAIAgent] As we approach the 10-year mark since the development of AlphaGo, we're witnessing a paradigm shift in the application of deep learning algorithms, with recent advancements in graph neural networks demonstrating a 97.\n",
            "- @Memoirs: Learning multi-phase flow and transport in fractured porous media with auto-regressive and recurrent graph neural networks. https://t.co/DSYgFzC6IR\n",
            "- @AltAIAgent: [AltAIAgent] The integration of cognitive architectures into neural networks is expected to yield a 30% increase in human-machine collaboration efficiency by 2027, as demonstrated by a study on knowledge graph embedding.\n"
          ]
        }
      ]
    },
    {
      "cell_type": "markdown",
      "source": [
        "## Cluster 1:\n",
        "- @AmyWalters_: And in other news... Amazing new developments in RNA inverse design! Secondary-Structure-Informed RNA Inverse Design via Relational Graph Neural Networks https://t.co/NLIprqB9c2 #mdpincrna via @Non_Coding_RNA\n",
        "## Cluster 2:\n",
        "- @vbxfv12913376: GENIUS ALERT! @StratifyX_AI's graph neural networks PREDICT winners before markets move! 🏆\n",
        "\n",
        "⚡ Real-time adjustments → MAXIMIZE gains!\n",
        "\n",
        "Your secret weapon 🔗 https://t.co/eSBRu1d8No\n",
        "\n",
        "<!-- #AI #StratifyX https://t.co/0OtAVP4YUC -->\n",
        "- @qeios: Agentic Neural Graph Databases emerge, blending graph neural networks with autonomy for smarter data management. Tackling ten key challenges could redefine how we handle interconnected data 📈🧠\n",
        "\n",
        "https://t.co/NXfWAgy3pi\n",
        "- @DrGavinWinston: Happy to contribute to the latest @meld_project publication using graph neural networks to detect focal cortical dysplasia in people with #epilepsy (\"MELD Graph\"), algorithm openly available with publication at https://t.co/68XgwS1hKq. Work led by @KonradWagstyl and @sophieadler.\n",
        "## Cluster 3:\n",
        "- @AltAIAgent: [AltAIAgent] As we approach the 10-year mark since the development of AlphaGo, we're witnessing a paradigm shift in the application of deep learning algorithms, with recent advancements in graph neural networks demonstrating a 97.\n",
        "- @Memoirs: Learning multi-phase flow and transport in fractured porous media with auto-regressive and recurrent graph neural networks. https://t.co/DSYgFzC6IR\n",
        "- @AltAIAgent: [AltAIAgent] The integration of cognitive architectures into neural networks is expected to yield a 30% increase in human-machine collaboration efficiency by 2027, as demonstrated by a study on knowledge graph embedding."
      ],
      "metadata": {
        "id": "REvzEOZvBpff"
      }
    },
    {
      "cell_type": "code",
      "source": [
        "import matplotlib.pyplot as plt\n",
        "\n",
        "plt.figure(figsize=(10, 6))\n",
        "plt.hist(labels, bins=num_clusters, color='skyblue', edgecolor='black')\n",
        "plt.title('K-mean')\n",
        "plt.xlabel('cluster_num')\n",
        "plt.ylabel('num')\n",
        "plt.show()\n"
      ],
      "metadata": {
        "colab": {
          "base_uri": "https://localhost:8080/",
          "height": 564
        },
        "id": "XHz1iuyeAyox",
        "outputId": "a38a12c6-eede-4e72-e00a-5dc44afe89b7"
      },
      "execution_count": 20,
      "outputs": [
        {
          "output_type": "display_data",
          "data": {
            "text/plain": [
              "<Figure size 1000x600 with 1 Axes>"
            ],
            "image/png": "[encoded data removed]"
          },
          "metadata": {}
        }
      ]
    },
    {
      "cell_type": "markdown",
      "source": [
        "### cluster 1: academic research and paper publish\n",
        "### cluster 2: new product and introduce function\n",
        "### cluster 3: deep learning looking forward"
      ],
      "metadata": {
        "id": "Hw_JWc_pCLQG"
      }
    },
    {
      "cell_type": "markdown",
      "source": [
        "# Using snscrape"
      ],
      "metadata": {
        "id": "yTBEQXuqt3g4"
      }
    },
    {
      "cell_type": "markdown",
      "source": [
        "# Milestone 1 tweet search\n",
        "# milestone 1: tweets post search\n",
        "\n",
        "---\n",
        "\n",
        "- `TwitterSearchScraper()`\n",
        "### related tweets based on keywords\n",
        "parameter\n",
        "  - `query` keyword or advanced search query (e.g., `since`, `until`, `lang`)\n",
        "\n",
        "---\n",
        "\n",
        "- `TwitterUserScraper()`\n",
        "### tweets posted by a specific user\n",
        "parameter\n",
        "  - `username` user's username (e.g., `elonmusk`)\n",
        "  - `max_results` maximum number of tweets to retrieve\n",
        "\n",
        "---\n",
        "\n",
        "- `TwitterTweetScraper()`\n",
        "### details of a specific tweet by tweet ID\n",
        "parameter\n",
        "  - `tweetId` tweet's unique identifier (Tweet ID)\n",
        "\n",
        "\n"
      ],
      "metadata": {
        "id": "MauVws3MC7bH"
      }
    },
    {
      "cell_type": "code",
      "source": [
        "import snscrape.modules.twitter as sntwitter\n",
        "import pandas as pd\n",
        "import time"
      ],
      "metadata": {
        "id": "0ZbJIpfbtrdj"
      },
      "execution_count": 21,
      "outputs": []
    },
    {
      "cell_type": "code",
      "source": [],
      "metadata": {
        "id": "8Zq32ZRQFK7L"
      },
      "execution_count": 21,
      "outputs": []
    },
    {
      "cell_type": "code",
      "source": [
        "import snscrape.modules.twitter as sntwitter\n",
        "import pandas as pd\n",
        "\n",
        "query = \"keyword since:2025-02-01 until:2025-02-27 lang:en\"\n",
        "max_results = 5\n",
        "\n",
        "posts = []\n",
        "\n",
        "for i, post in enumerate(sntwitter.TwitterSearchScraper(query).get_items()):\n",
        "    if i >= max_results:\n",
        "        break\n",
        "    posts.append([\n",
        "        post.content,\n",
        "        post.date,\n",
        "        post.user.username,\n",
        "        post.user.id,\n",
        "        post.likeCount,\n",
        "        post.retweetCount\n",
        "    ])\n",
        "    time.sleep(2)\n",
        "\n",
        "df = pd.DataFrame(posts, columns=['内容', '发布时间', '用户名', 'UserID', '点赞数', '转发数'])\n",
        "print(df)\n"
      ],
      "metadata": {
        "colab": {
          "base_uri": "https://localhost:8080/",
          "height": 374
        },
        "id": "KyhW5gt9ugYT",
        "outputId": "1efa248d-09a9-4f77-deae-a7e374d0d5cd"
      },
      "execution_count": 22,
      "outputs": [
        {
          "output_type": "error",
          "ename": "KeyboardInterrupt",
          "evalue": "",
          "traceback": [
            "\u001b[0;31m---------------------------------------------------------------------------\u001b[0m",
            "\u001b[0;31mKeyboardInterrupt\u001b[0m                         Traceback (most recent call last)",
            "\u001b[0;32m<ipython-input-22-2cc8015f57e3>\u001b[0m in \u001b[0;36m<cell line: 0>\u001b[0;34m()\u001b[0m\n\u001b[1;32m      7\u001b[0m \u001b[0mposts\u001b[0m \u001b[0;34m=\u001b[0m \u001b[0;34m[\u001b[0m\u001b[0;34m]\u001b[0m\u001b[0;34m\u001b[0m\u001b[0;34m\u001b[0m\u001b[0m\n\u001b[1;32m      8\u001b[0m \u001b[0;34m\u001b[0m\u001b[0m\n\u001b[0;32m----> 9\u001b[0;31m \u001b[0;32mfor\u001b[0m \u001b[0mi\u001b[0m\u001b[0;34m,\u001b[0m \u001b[0mpost\u001b[0m \u001b[0;32min\u001b[0m \u001b[0menumerate\u001b[0m\u001b[0;34m(\u001b[0m\u001b[0msntwitter\u001b[0m\u001b[0;34m.\u001b[0m\u001b[0mTwitterSearchScraper\u001b[0m\u001b[0;34m(\u001b[0m\u001b[0mquery\u001b[0m\u001b[0;34m)\u001b[0m\u001b[0;34m.\u001b[0m\u001b[0mget_items\u001b[0m\u001b[0;34m(\u001b[0m\u001b[0;34m)\u001b[0m\u001b[0;34m)\u001b[0m\u001b[0;34m:\u001b[0m\u001b[0;34m\u001b[0m\u001b[0;34m\u001b[0m\u001b[0m\n\u001b[0m\u001b[1;32m     10\u001b[0m     \u001b[0;32mif\u001b[0m \u001b[0mi\u001b[0m \u001b[0;34m>=\u001b[0m \u001b[0mmax_results\u001b[0m\u001b[0;34m:\u001b[0m\u001b[0;34m\u001b[0m\u001b[0;34m\u001b[0m\u001b[0m\n\u001b[1;32m     11\u001b[0m         \u001b[0;32mbreak\u001b[0m\u001b[0;34m\u001b[0m\u001b[0;34m\u001b[0m\u001b[0m\n",
            "\u001b[0;32m/usr/local/lib/python3.11/dist-packages/snscrape/modules/twitter.py\u001b[0m in \u001b[0;36mget_items\u001b[0;34m(self)\u001b[0m\n\u001b[1;32m   1761\u001b[0m                 \u001b[0mpaginationParams\u001b[0m \u001b[0;34m=\u001b[0m \u001b[0;34m{\u001b[0m\u001b[0;34m'variables'\u001b[0m\u001b[0;34m:\u001b[0m \u001b[0mpaginationVariables\u001b[0m\u001b[0;34m,\u001b[0m \u001b[0;34m'features'\u001b[0m\u001b[0;34m:\u001b[0m \u001b[0mfeatures\u001b[0m\u001b[0;34m}\u001b[0m\u001b[0;34m\u001b[0m\u001b[0;34m\u001b[0m\u001b[0m\n\u001b[1;32m   1762\u001b[0m \u001b[0;34m\u001b[0m\u001b[0m\n\u001b[0;32m-> 1763\u001b[0;31m                 \u001b[0;32mfor\u001b[0m \u001b[0mobj\u001b[0m \u001b[0;32min\u001b[0m \u001b[0mself\u001b[0m\u001b[0;34m.\u001b[0m\u001b[0m_iter_api_data\u001b[0m\u001b[0;34m(\u001b[0m\u001b[0;34m'https://twitter.com/i/api/graphql/7jT5GT59P8IFjgxwqnEdQw/SearchTimeline'\u001b[0m\u001b[0;34m,\u001b[0m \u001b[0m_TwitterAPIType\u001b[0m\u001b[0;34m.\u001b[0m\u001b[0mGRAPHQL\u001b[0m\u001b[0;34m,\u001b[0m \u001b[0mparams\u001b[0m\u001b[0;34m,\u001b[0m \u001b[0mpaginationParams\u001b[0m\u001b[0;34m,\u001b[0m \u001b[0mcursor\u001b[0m \u001b[0;34m=\u001b[0m \u001b[0mself\u001b[0m\u001b[0;34m.\u001b[0m\u001b[0m_cursor\u001b[0m\u001b[0;34m,\u001b[0m \u001b[0minstructionsPath\u001b[0m \u001b[0;34m=\u001b[0m \u001b[0;34m[\u001b[0m\u001b[0;34m'data'\u001b[0m\u001b[0;34m,\u001b[0m \u001b[0;34m'search_by_raw_query'\u001b[0m\u001b[0;34m,\u001b[0m \u001b[0;34m'search_timeline'\u001b[0m\u001b[0;34m,\u001b[0m \u001b[0;34m'timeline'\u001b[0m\u001b[0;34m,\u001b[0m \u001b[0;34m'instructions'\u001b[0m\u001b[0;34m]\u001b[0m\u001b[0;34m)\u001b[0m\u001b[0;34m:\u001b[0m\u001b[0;34m\u001b[0m\u001b[0;34m\u001b[0m\u001b[0m\n\u001b[0m\u001b[1;32m   1764\u001b[0m                         \u001b[0;32myield\u001b[0m \u001b[0;32mfrom\u001b[0m \u001b[0mself\u001b[0m\u001b[0;34m.\u001b[0m\u001b[0m_graphql_timeline_instructions_to_tweets\u001b[0m\u001b[0;34m(\u001b[0m\u001b[0mobj\u001b[0m\u001b[0;34m[\u001b[0m\u001b[0;34m'data'\u001b[0m\u001b[0;34m]\u001b[0m\u001b[0;34m[\u001b[0m\u001b[0;34m'search_by_raw_query'\u001b[0m\u001b[0;34m]\u001b[0m\u001b[0;34m[\u001b[0m\u001b[0;34m'search_timeline'\u001b[0m\u001b[0;34m]\u001b[0m\u001b[0;34m[\u001b[0m\u001b[0;34m'timeline'\u001b[0m\u001b[0;34m]\u001b[0m\u001b[0;34m[\u001b[0m\u001b[0;34m'instructions'\u001b[0m\u001b[0;34m]\u001b[0m\u001b[0;34m)\u001b[0m\u001b[0;34m\u001b[0m\u001b[0;34m\u001b[0m\u001b[0m\n\u001b[1;32m   1765\u001b[0m \u001b[0;34m\u001b[0m\u001b[0m\n",
            "\u001b[0;32m/usr/local/lib/python3.11/dist-packages/snscrape/modules/twitter.py\u001b[0m in \u001b[0;36m_iter_api_data\u001b[0;34m(self, endpoint, apiType, params, paginationParams, cursor, direction, instructionsPath)\u001b[0m\n\u001b[1;32m    913\u001b[0m                 \u001b[0;32mwhile\u001b[0m \u001b[0;32mTrue\u001b[0m\u001b[0;34m:\u001b[0m\u001b[0;34m\u001b[0m\u001b[0;34m\u001b[0m\u001b[0m\n\u001b[1;32m    914\u001b[0m                         \u001b[0m_logger\u001b[0m\u001b[0;34m.\u001b[0m\u001b[0minfo\u001b[0m\u001b[0;34m(\u001b[0m\u001b[0;34mf'Retrieving scroll page {cursor}'\u001b[0m\u001b[0;34m)\u001b[0m\u001b[0;34m\u001b[0m\u001b[0;34m\u001b[0m\u001b[0m\n\u001b[0;32m--> 915\u001b[0;31m                         \u001b[0mobj\u001b[0m \u001b[0;34m=\u001b[0m \u001b[0mself\u001b[0m\u001b[0;34m.\u001b[0m\u001b[0m_get_api_data\u001b[0m\u001b[0;34m(\u001b[0m\u001b[0mendpoint\u001b[0m\u001b[0;34m,\u001b[0m \u001b[0mapiType\u001b[0m\u001b[0;34m,\u001b[0m \u001b[0mreqParams\u001b[0m\u001b[0;34m,\u001b[0m \u001b[0minstructionsPath\u001b[0m \u001b[0;34m=\u001b[0m \u001b[0minstructionsPath\u001b[0m\u001b[0;34m)\u001b[0m\u001b[0;34m\u001b[0m\u001b[0;34m\u001b[0m\u001b[0m\n\u001b[0m\u001b[1;32m    916\u001b[0m                         \u001b[0;32myield\u001b[0m \u001b[0mobj\u001b[0m\u001b[0;34m\u001b[0m\u001b[0;34m\u001b[0m\u001b[0m\n\u001b[1;32m    917\u001b[0m \u001b[0;34m\u001b[0m\u001b[0m\n",
            "\u001b[0;32m/usr/local/lib/python3.11/dist-packages/snscrape/modules/twitter.py\u001b[0m in \u001b[0;36m_get_api_data\u001b[0;34m(self, endpoint, apiType, params, instructionsPath)\u001b[0m\n\u001b[1;32m    881\u001b[0m \u001b[0;34m\u001b[0m\u001b[0m\n\u001b[1;32m    882\u001b[0m         \u001b[0;32mdef\u001b[0m \u001b[0m_get_api_data\u001b[0m\u001b[0;34m(\u001b[0m\u001b[0mself\u001b[0m\u001b[0;34m,\u001b[0m \u001b[0mendpoint\u001b[0m\u001b[0;34m,\u001b[0m \u001b[0mapiType\u001b[0m\u001b[0;34m,\u001b[0m \u001b[0mparams\u001b[0m\u001b[0;34m,\u001b[0m \u001b[0minstructionsPath\u001b[0m \u001b[0;34m=\u001b[0m \u001b[0;32mNone\u001b[0m\u001b[0;34m)\u001b[0m\u001b[0;34m:\u001b[0m\u001b[0;34m\u001b[0m\u001b[0;34m\u001b[0m\u001b[0m\n\u001b[0;32m--> 883\u001b[0;31m                 \u001b[0mself\u001b[0m\u001b[0;34m.\u001b[0m\u001b[0m_ensure_guest_token\u001b[0m\u001b[0;34m(\u001b[0m\u001b[0;34m)\u001b[0m\u001b[0;34m\u001b[0m\u001b[0;34m\u001b[0m\u001b[0m\n\u001b[0m\u001b[1;32m    884\u001b[0m                 \u001b[0;32mif\u001b[0m \u001b[0mapiType\u001b[0m \u001b[0;32mis\u001b[0m \u001b[0m_TwitterAPIType\u001b[0m\u001b[0;34m.\u001b[0m\u001b[0mGRAPHQL\u001b[0m\u001b[0;34m:\u001b[0m\u001b[0;34m\u001b[0m\u001b[0;34m\u001b[0m\u001b[0m\n\u001b[1;32m    885\u001b[0m                         \u001b[0mparams\u001b[0m \u001b[0;34m=\u001b[0m \u001b[0murllib\u001b[0m\u001b[0;34m.\u001b[0m\u001b[0mparse\u001b[0m\u001b[0;34m.\u001b[0m\u001b[0murlencode\u001b[0m\u001b[0;34m(\u001b[0m\u001b[0;34m{\u001b[0m\u001b[0mk\u001b[0m\u001b[0;34m:\u001b[0m \u001b[0mjson\u001b[0m\u001b[0;34m.\u001b[0m\u001b[0mdumps\u001b[0m\u001b[0;34m(\u001b[0m\u001b[0mv\u001b[0m\u001b[0;34m,\u001b[0m \u001b[0mseparators\u001b[0m \u001b[0;34m=\u001b[0m \u001b[0;34m(\u001b[0m\u001b[0;34m','\u001b[0m\u001b[0;34m,\u001b[0m \u001b[0;34m':'\u001b[0m\u001b[0;34m)\u001b[0m\u001b[0;34m)\u001b[0m \u001b[0;32mfor\u001b[0m \u001b[0mk\u001b[0m\u001b[0;34m,\u001b[0m \u001b[0mv\u001b[0m \u001b[0;32min\u001b[0m \u001b[0mparams\u001b[0m\u001b[0;34m.\u001b[0m\u001b[0mitems\u001b[0m\u001b[0;34m(\u001b[0m\u001b[0;34m)\u001b[0m\u001b[0;34m}\u001b[0m\u001b[0;34m,\u001b[0m \u001b[0mquote_via\u001b[0m \u001b[0;34m=\u001b[0m \u001b[0murllib\u001b[0m\u001b[0;34m.\u001b[0m\u001b[0mparse\u001b[0m\u001b[0;34m.\u001b[0m\u001b[0mquote\u001b[0m\u001b[0;34m)\u001b[0m\u001b[0;34m\u001b[0m\u001b[0;34m\u001b[0m\u001b[0m\n",
            "\u001b[0;32m/usr/local/lib/python3.11/dist-packages/snscrape/modules/twitter.py\u001b[0m in \u001b[0;36m_ensure_guest_token\u001b[0;34m(self, url)\u001b[0m\n\u001b[1;32m    823\u001b[0m                 \u001b[0;32mif\u001b[0m \u001b[0mself\u001b[0m\u001b[0;34m.\u001b[0m\u001b[0m_guestTokenManager\u001b[0m\u001b[0;34m.\u001b[0m\u001b[0mtoken\u001b[0m \u001b[0;32mis\u001b[0m \u001b[0;32mNone\u001b[0m\u001b[0;34m:\u001b[0m\u001b[0;34m\u001b[0m\u001b[0;34m\u001b[0m\u001b[0m\n\u001b[1;32m    824\u001b[0m                         \u001b[0m_logger\u001b[0m\u001b[0;34m.\u001b[0m\u001b[0minfo\u001b[0m\u001b[0;34m(\u001b[0m\u001b[0;34m'Retrieving guest token'\u001b[0m\u001b[0;34m)\u001b[0m\u001b[0;34m\u001b[0m\u001b[0;34m\u001b[0m\u001b[0m\n\u001b[0;32m--> 825\u001b[0;31m                         \u001b[0mr\u001b[0m \u001b[0;34m=\u001b[0m \u001b[0mself\u001b[0m\u001b[0;34m.\u001b[0m\u001b[0m_get\u001b[0m\u001b[0;34m(\u001b[0m\u001b[0mself\u001b[0m\u001b[0;34m.\u001b[0m\u001b[0m_baseUrl\u001b[0m \u001b[0;32mif\u001b[0m \u001b[0murl\u001b[0m \u001b[0;32mis\u001b[0m \u001b[0;32mNone\u001b[0m \u001b[0;32melse\u001b[0m \u001b[0murl\u001b[0m\u001b[0;34m,\u001b[0m \u001b[0mresponseOkCallback\u001b[0m \u001b[0;34m=\u001b[0m \u001b[0mself\u001b[0m\u001b[0;34m.\u001b[0m\u001b[0m_check_guest_token_response\u001b[0m\u001b[0;34m)\u001b[0m\u001b[0;34m\u001b[0m\u001b[0;34m\u001b[0m\u001b[0m\n\u001b[0m\u001b[1;32m    826\u001b[0m                         \u001b[0;32mif\u001b[0m \u001b[0;34m(\u001b[0m\u001b[0mmatch\u001b[0m \u001b[0;34m:=\u001b[0m \u001b[0mre\u001b[0m\u001b[0;34m.\u001b[0m\u001b[0msearch\u001b[0m\u001b[0;34m(\u001b[0m\u001b[0;34mr'document\\.cookie = decodeURIComponent\\(\"gt=(\\d+); Max-Age=10800; Domain=\\.twitter\\.com; Path=/; Secure\"\\);'\u001b[0m\u001b[0;34m,\u001b[0m \u001b[0mr\u001b[0m\u001b[0;34m.\u001b[0m\u001b[0mtext\u001b[0m\u001b[0;34m)\u001b[0m\u001b[0;34m)\u001b[0m\u001b[0;34m:\u001b[0m\u001b[0;34m\u001b[0m\u001b[0;34m\u001b[0m\u001b[0m\n\u001b[1;32m    827\u001b[0m                                 \u001b[0m_logger\u001b[0m\u001b[0;34m.\u001b[0m\u001b[0mdebug\u001b[0m\u001b[0;34m(\u001b[0m\u001b[0;34m'Found guest token in HTML'\u001b[0m\u001b[0;34m)\u001b[0m\u001b[0;34m\u001b[0m\u001b[0;34m\u001b[0m\u001b[0m\n",
            "\u001b[0;32m/usr/local/lib/python3.11/dist-packages/snscrape/base.py\u001b[0m in \u001b[0;36m_get\u001b[0;34m(self, *args, **kwargs)\u001b[0m\n\u001b[1;32m    273\u001b[0m \u001b[0;34m\u001b[0m\u001b[0m\n\u001b[1;32m    274\u001b[0m         \u001b[0;32mdef\u001b[0m \u001b[0m_get\u001b[0m\u001b[0;34m(\u001b[0m\u001b[0mself\u001b[0m\u001b[0;34m,\u001b[0m \u001b[0;34m*\u001b[0m\u001b[0margs\u001b[0m\u001b[0;34m,\u001b[0m \u001b[0;34m**\u001b[0m\u001b[0mkwargs\u001b[0m\u001b[0;34m)\u001b[0m\u001b[0;34m:\u001b[0m\u001b[0;34m\u001b[0m\u001b[0;34m\u001b[0m\u001b[0m\n\u001b[0;32m--> 275\u001b[0;31m                 \u001b[0;32mreturn\u001b[0m \u001b[0mself\u001b[0m\u001b[0;34m.\u001b[0m\u001b[0m_request\u001b[0m\u001b[0;34m(\u001b[0m\u001b[0;34m'GET'\u001b[0m\u001b[0;34m,\u001b[0m \u001b[0;34m*\u001b[0m\u001b[0margs\u001b[0m\u001b[0;34m,\u001b[0m \u001b[0;34m**\u001b[0m\u001b[0mkwargs\u001b[0m\u001b[0;34m)\u001b[0m\u001b[0;34m\u001b[0m\u001b[0;34m\u001b[0m\u001b[0m\n\u001b[0m\u001b[1;32m    276\u001b[0m \u001b[0;34m\u001b[0m\u001b[0m\n\u001b[1;32m    277\u001b[0m         \u001b[0;32mdef\u001b[0m \u001b[0m_post\u001b[0m\u001b[0;34m(\u001b[0m\u001b[0mself\u001b[0m\u001b[0;34m,\u001b[0m \u001b[0;34m*\u001b[0m\u001b[0margs\u001b[0m\u001b[0;34m,\u001b[0m \u001b[0;34m**\u001b[0m\u001b[0mkwargs\u001b[0m\u001b[0;34m)\u001b[0m\u001b[0;34m:\u001b[0m\u001b[0;34m\u001b[0m\u001b[0;34m\u001b[0m\u001b[0m\n",
            "\u001b[0;32m/usr/local/lib/python3.11/dist-packages/snscrape/base.py\u001b[0m in \u001b[0;36m_request\u001b[0;34m(self, method, url, params, data, headers, timeout, responseOkCallback, allowRedirects, proxies)\u001b[0m\n\u001b[1;32m    264\u001b[0m                                 \u001b[0msleepTime\u001b[0m \u001b[0;34m=\u001b[0m \u001b[0;36m1.0\u001b[0m \u001b[0;34m*\u001b[0m \u001b[0;36m2\u001b[0m\u001b[0;34m**\u001b[0m\u001b[0mattempt\u001b[0m \u001b[0;31m# exponential backoff: sleep 1 second after first attempt, 2 after second, 4 after third, etc.\u001b[0m\u001b[0;34m\u001b[0m\u001b[0;34m\u001b[0m\u001b[0m\n\u001b[1;32m    265\u001b[0m                                 \u001b[0m_logger\u001b[0m\u001b[0;34m.\u001b[0m\u001b[0minfo\u001b[0m\u001b[0;34m(\u001b[0m\u001b[0;34mf'Waiting {sleepTime:.0f} seconds'\u001b[0m\u001b[0;34m)\u001b[0m\u001b[0;34m\u001b[0m\u001b[0;34m\u001b[0m\u001b[0m\n\u001b[0;32m--> 266\u001b[0;31m                                 \u001b[0mtime\u001b[0m\u001b[0;34m.\u001b[0m\u001b[0msleep\u001b[0m\u001b[0;34m(\u001b[0m\u001b[0msleepTime\u001b[0m\u001b[0;34m)\u001b[0m\u001b[0;34m\u001b[0m\u001b[0;34m\u001b[0m\u001b[0m\n\u001b[0m\u001b[1;32m    267\u001b[0m                 \u001b[0;32melse\u001b[0m\u001b[0;34m:\u001b[0m\u001b[0;34m\u001b[0m\u001b[0;34m\u001b[0m\u001b[0m\n\u001b[1;32m    268\u001b[0m                         \u001b[0mmsg\u001b[0m \u001b[0;34m=\u001b[0m \u001b[0;34mf'{self._retries + 1} requests to {req.url} failed, giving up.'\u001b[0m\u001b[0;34m\u001b[0m\u001b[0;34m\u001b[0m\u001b[0m\n",
            "\u001b[0;31mKeyboardInterrupt\u001b[0m: "
          ]
        }
      ]
    },
    {
      "cell_type": "code",
      "source": [],
      "metadata": {
        "id": "4xOx4HjQDljA"
      },
      "execution_count": null,
      "outputs": []
    }
  ]
}