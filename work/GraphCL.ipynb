{
  "nbformat": 4,
  "nbformat_minor": 0,
  "metadata": {
    "colab": {
      "provenance": []
    },
    "kernelspec": {
      "name": "python3",
      "display_name": "Python 3"
    },
    "language_info": {
      "name": "python"
    }
  },
  "cells": [
    {
      "cell_type": "markdown",
      "source": [
        "\n",
        "# Graph Contrastive Learning with augmentations\n"
      ],
      "metadata": {
        "id": "ialwcpRxWe_D"
      }
    },
    {
      "cell_type": "markdown",
      "source": [
        "## technical terms\n",
        "\n",
        "### wet-lab experiment: chemical reaction\n",
        "\n",
        "### ssl: model generate fake label, then supervised learning\n",
        "\n",
        "### transfer learning\n",
        "\n",
        "### adversarial learning: positive pair(similar) closer."
      ],
      "metadata": {
        "id": "VjUnqeFjZXXp"
      }
    },
    {
      "cell_type": "markdown",
      "source": [
        "## data augmentation\n",
        "$$\n",
        "\\hat{G} \\sim q(\\hat{G} | G)\n",
        "$$\n",
        "do some transformation on G(hide node, edge, attribuite mask or random walk sampling in the graph)\n",
        "\n",
        "shared encoder + projection head trained by max agreement by contrastive loss\n",
        "\n",
        "without data augmentation: original graph been treated as negative pairs"
      ],
      "metadata": {
        "id": "i5dHuXPewooc"
      }
    },
    {
      "cell_type": "markdown",
      "source": [
        "## why add projection head?\n",
        "\n",
        "h has lower dimensions, while z has higher dimension, better to calculate similarity."
      ],
      "metadata": {
        "id": "I_zeVwRd1UED"
      }
    },
    {
      "cell_type": "code",
      "source": [],
      "metadata": {
        "id": "_MhT8avE9fAb"
      },
      "execution_count": null,
      "outputs": []
    }
  ]
}